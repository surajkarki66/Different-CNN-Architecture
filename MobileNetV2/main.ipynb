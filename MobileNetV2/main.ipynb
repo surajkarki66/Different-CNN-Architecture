{
  "nbformat": 4,
  "nbformat_minor": 0,
  "metadata": {
    "accelerator": "GPU",
    "colab": {
      "name": "main.ipynb",
      "provenance": [],
      "collapsed_sections": []
    },
    "kernelspec": {
      "display_name": "Python 3",
      "language": "python",
      "name": "python3"
    },
    "language_info": {
      "codemirror_mode": {
        "name": "ipython",
        "version": 3
      },
      "file_extension": ".py",
      "mimetype": "text/x-python",
      "name": "python",
      "nbconvert_exporter": "python",
      "pygments_lexer": "ipython3",
      "version": "3.8.2"
    },
    "widgets": {
      "application/vnd.jupyter.widget-state+json": {
        "e3cab5b1d33e4e62b6d1163cadf59d41": {
          "model_module": "@jupyter-widgets/controls",
          "model_name": "HBoxModel",
          "state": {
            "_view_name": "HBoxView",
            "_dom_classes": [],
            "_model_name": "HBoxModel",
            "_view_module": "@jupyter-widgets/controls",
            "_model_module_version": "1.5.0",
            "_view_count": null,
            "_view_module_version": "1.5.0",
            "box_style": "",
            "layout": "IPY_MODEL_36b5cd67c03046479591c274f8f989e6",
            "_model_module": "@jupyter-widgets/controls",
            "children": [
              "IPY_MODEL_19ddb516e6784bfc8858160e06082a9d",
              "IPY_MODEL_694dcbc1cbea4111b37d1ba822b1904d"
            ]
          }
        },
        "36b5cd67c03046479591c274f8f989e6": {
          "model_module": "@jupyter-widgets/base",
          "model_name": "LayoutModel",
          "state": {
            "_view_name": "LayoutView",
            "grid_template_rows": null,
            "right": null,
            "justify_content": null,
            "_view_module": "@jupyter-widgets/base",
            "overflow": null,
            "_model_module_version": "1.2.0",
            "_view_count": null,
            "flex_flow": null,
            "width": null,
            "min_width": null,
            "border": null,
            "align_items": null,
            "bottom": null,
            "_model_module": "@jupyter-widgets/base",
            "top": null,
            "grid_column": null,
            "overflow_y": null,
            "overflow_x": null,
            "grid_auto_flow": null,
            "grid_area": null,
            "grid_template_columns": null,
            "flex": null,
            "_model_name": "LayoutModel",
            "justify_items": null,
            "grid_row": null,
            "max_height": null,
            "align_content": null,
            "visibility": null,
            "align_self": null,
            "height": null,
            "min_height": null,
            "padding": null,
            "grid_auto_rows": null,
            "grid_gap": null,
            "max_width": null,
            "order": null,
            "_view_module_version": "1.2.0",
            "grid_template_areas": null,
            "object_position": null,
            "object_fit": null,
            "grid_auto_columns": null,
            "margin": null,
            "display": null,
            "left": null
          }
        },
        "19ddb516e6784bfc8858160e06082a9d": {
          "model_module": "@jupyter-widgets/controls",
          "model_name": "FloatProgressModel",
          "state": {
            "_view_name": "ProgressView",
            "style": "IPY_MODEL_4f228d3070e2401a9fa20769095eb1ab",
            "_dom_classes": [],
            "description": "",
            "_model_name": "FloatProgressModel",
            "bar_style": "success",
            "max": 1,
            "_view_module": "@jupyter-widgets/controls",
            "_model_module_version": "1.5.0",
            "value": 1,
            "_view_count": null,
            "_view_module_version": "1.5.0",
            "orientation": "horizontal",
            "min": 0,
            "description_tooltip": null,
            "_model_module": "@jupyter-widgets/controls",
            "layout": "IPY_MODEL_4a059e29688a498cb96a57e0e0c95390"
          }
        },
        "694dcbc1cbea4111b37d1ba822b1904d": {
          "model_module": "@jupyter-widgets/controls",
          "model_name": "HTMLModel",
          "state": {
            "_view_name": "HTMLView",
            "style": "IPY_MODEL_abe9a428cc3d477ca471391e1b993726",
            "_dom_classes": [],
            "description": "",
            "_model_name": "HTMLModel",
            "placeholder": "​",
            "_view_module": "@jupyter-widgets/controls",
            "_model_module_version": "1.5.0",
            "value": " 170500096/? [00:07&lt;00:00, 21619377.70it/s]",
            "_view_count": null,
            "_view_module_version": "1.5.0",
            "description_tooltip": null,
            "_model_module": "@jupyter-widgets/controls",
            "layout": "IPY_MODEL_75f26e177fdf4775ad40d6990793dd2d"
          }
        },
        "4f228d3070e2401a9fa20769095eb1ab": {
          "model_module": "@jupyter-widgets/controls",
          "model_name": "ProgressStyleModel",
          "state": {
            "_view_name": "StyleView",
            "_model_name": "ProgressStyleModel",
            "description_width": "initial",
            "_view_module": "@jupyter-widgets/base",
            "_model_module_version": "1.5.0",
            "_view_count": null,
            "_view_module_version": "1.2.0",
            "bar_color": null,
            "_model_module": "@jupyter-widgets/controls"
          }
        },
        "4a059e29688a498cb96a57e0e0c95390": {
          "model_module": "@jupyter-widgets/base",
          "model_name": "LayoutModel",
          "state": {
            "_view_name": "LayoutView",
            "grid_template_rows": null,
            "right": null,
            "justify_content": null,
            "_view_module": "@jupyter-widgets/base",
            "overflow": null,
            "_model_module_version": "1.2.0",
            "_view_count": null,
            "flex_flow": null,
            "width": null,
            "min_width": null,
            "border": null,
            "align_items": null,
            "bottom": null,
            "_model_module": "@jupyter-widgets/base",
            "top": null,
            "grid_column": null,
            "overflow_y": null,
            "overflow_x": null,
            "grid_auto_flow": null,
            "grid_area": null,
            "grid_template_columns": null,
            "flex": null,
            "_model_name": "LayoutModel",
            "justify_items": null,
            "grid_row": null,
            "max_height": null,
            "align_content": null,
            "visibility": null,
            "align_self": null,
            "height": null,
            "min_height": null,
            "padding": null,
            "grid_auto_rows": null,
            "grid_gap": null,
            "max_width": null,
            "order": null,
            "_view_module_version": "1.2.0",
            "grid_template_areas": null,
            "object_position": null,
            "object_fit": null,
            "grid_auto_columns": null,
            "margin": null,
            "display": null,
            "left": null
          }
        },
        "abe9a428cc3d477ca471391e1b993726": {
          "model_module": "@jupyter-widgets/controls",
          "model_name": "DescriptionStyleModel",
          "state": {
            "_view_name": "StyleView",
            "_model_name": "DescriptionStyleModel",
            "description_width": "",
            "_view_module": "@jupyter-widgets/base",
            "_model_module_version": "1.5.0",
            "_view_count": null,
            "_view_module_version": "1.2.0",
            "_model_module": "@jupyter-widgets/controls"
          }
        },
        "75f26e177fdf4775ad40d6990793dd2d": {
          "model_module": "@jupyter-widgets/base",
          "model_name": "LayoutModel",
          "state": {
            "_view_name": "LayoutView",
            "grid_template_rows": null,
            "right": null,
            "justify_content": null,
            "_view_module": "@jupyter-widgets/base",
            "overflow": null,
            "_model_module_version": "1.2.0",
            "_view_count": null,
            "flex_flow": null,
            "width": null,
            "min_width": null,
            "border": null,
            "align_items": null,
            "bottom": null,
            "_model_module": "@jupyter-widgets/base",
            "top": null,
            "grid_column": null,
            "overflow_y": null,
            "overflow_x": null,
            "grid_auto_flow": null,
            "grid_area": null,
            "grid_template_columns": null,
            "flex": null,
            "_model_name": "LayoutModel",
            "justify_items": null,
            "grid_row": null,
            "max_height": null,
            "align_content": null,
            "visibility": null,
            "align_self": null,
            "height": null,
            "min_height": null,
            "padding": null,
            "grid_auto_rows": null,
            "grid_gap": null,
            "max_width": null,
            "order": null,
            "_view_module_version": "1.2.0",
            "grid_template_areas": null,
            "object_position": null,
            "object_fit": null,
            "grid_auto_columns": null,
            "margin": null,
            "display": null,
            "left": null
          }
        }
      }
    }
  },
  "cells": [
    {
      "cell_type": "markdown",
      "metadata": {
        "id": "i37opVLSW3Ds"
      },
      "source": [
        "## Mobilenet architecture for mobile devices"
      ]
    },
    {
      "cell_type": "code",
      "metadata": {
        "id": "oCt-GHrvW3Dv",
        "outputId": "fa4188f3-d3e5-437b-f0d6-f45afc89ca24",
        "colab": {
          "base_uri": "https://localhost:8080/"
        }
      },
      "source": [
        "import os\n",
        "import copy\n",
        "import torch\n",
        "import torch.nn as nn\n",
        "import torch.optim as optim\n",
        "import torch.nn.functional as F\n",
        "import torchvision\n",
        "import torchvision.transforms as transforms\n",
        "\n",
        "\n",
        "from torchvision import datasets, models, transforms\n",
        "from torchsummary import summary\n",
        "from datetime import datetime\n",
        "\n",
        "!pip3 install torchviz\n",
        "from torchviz import make_dot"
      ],
      "execution_count": null,
      "outputs": [
        {
          "output_type": "stream",
          "text": [
            "Requirement already satisfied: torchviz in /usr/local/lib/python3.6/dist-packages (0.0.1)\n",
            "Requirement already satisfied: graphviz in /usr/local/lib/python3.6/dist-packages (from torchviz) (0.10.1)\n",
            "Requirement already satisfied: torch in /usr/local/lib/python3.6/dist-packages (from torchviz) (1.6.0+cu101)\n",
            "Requirement already satisfied: future in /usr/local/lib/python3.6/dist-packages (from torch->torchviz) (0.16.0)\n",
            "Requirement already satisfied: numpy in /usr/local/lib/python3.6/dist-packages (from torch->torchviz) (1.18.5)\n"
          ],
          "name": "stdout"
        }
      ]
    },
    {
      "cell_type": "markdown",
      "metadata": {
        "id": "hmgFMK_aW3D2"
      },
      "source": [
        "### 1) Linear BottleNeck"
      ]
    },
    {
      "cell_type": "code",
      "metadata": {
        "id": "TG4wm1WeW3D3"
      },
      "source": [
        "class LinearBottleNeck(nn.Module):\n",
        "    def __init__(self, in_channels, out_channels, stride, t=6, class_num=100):\n",
        "        super().__init__()\n",
        "\n",
        "        self.residual = nn.Sequential(\n",
        "            nn.Conv2d(in_channels, in_channels * t, 1),\n",
        "            nn.BatchNorm2d(in_channels * t),\n",
        "            nn.ReLU6(inplace=True),\n",
        "\n",
        "            nn.Conv2d(in_channels * t, in_channels * t, 3, stride=stride, padding=1, groups=in_channels * t),\n",
        "            nn.BatchNorm2d(in_channels * t),\n",
        "            nn.ReLU6(inplace=True),\n",
        "\n",
        "            nn.Conv2d(in_channels * t, out_channels, 1),\n",
        "            nn.BatchNorm2d(out_channels)\n",
        "        )\n",
        "\n",
        "        self.stride = stride\n",
        "        self.in_channels = in_channels\n",
        "        self.out_channels = out_channels\n",
        "\n",
        "    def forward(self, x):\n",
        "\n",
        "        residual = self.residual(x)\n",
        "\n",
        "        if self.stride == 1 and self.in_channels == self.out_channels:\n",
        "            residual += x\n",
        "\n",
        "        return residual\n"
      ],
      "execution_count": null,
      "outputs": []
    },
    {
      "cell_type": "markdown",
      "metadata": {
        "id": "nEt5JrmaW3EG"
      },
      "source": [
        "## Architecture"
      ]
    },
    {
      "cell_type": "code",
      "metadata": {
        "id": "tGYouuBxW3EH"
      },
      "source": [
        "class MobileNetV2(nn.Module):\n",
        "\n",
        "    def __init__(self, class_num=10):\n",
        "        super().__init__()\n",
        "\n",
        "        self.pre = nn.Sequential(\n",
        "            nn.Conv2d(3, 32, 1, padding=1),\n",
        "            nn.BatchNorm2d(32),\n",
        "            nn.ReLU6(inplace=True)\n",
        "        )\n",
        "\n",
        "        self.stage1 = LinearBottleNeck(32, 16, 1, 1)\n",
        "        self.stage2 = self._make_stage(2, 16, 24, 2, 6)\n",
        "        self.stage3 = self._make_stage(3, 24, 32, 2, 6)\n",
        "        self.stage4 = self._make_stage(4, 32, 64, 2, 6)\n",
        "        self.stage5 = self._make_stage(3, 64, 96, 1, 6)\n",
        "        self.stage6 = self._make_stage(3, 96, 160, 1, 6)\n",
        "        self.stage7 = LinearBottleNeck(160, 320, 1, 6)\n",
        "\n",
        "        self.conv1 = nn.Sequential(\n",
        "            nn.Conv2d(320, 1280, 1),\n",
        "            nn.BatchNorm2d(1280),\n",
        "            nn.ReLU6(inplace=True)\n",
        "        )\n",
        "\n",
        "        self.conv2 = nn.Conv2d(1280, class_num, 1)\n",
        "\n",
        "    def forward(self, x):\n",
        "        x = self.pre(x)\n",
        "        x = self.stage1(x)\n",
        "        x = self.stage2(x)\n",
        "        x = self.stage3(x)\n",
        "        x = self.stage4(x)\n",
        "        x = self.stage5(x)\n",
        "        x = self.stage6(x)\n",
        "        x = self.stage7(x)\n",
        "        x = self.conv1(x)\n",
        "        x = F.adaptive_avg_pool2d(x, 1)\n",
        "        x = self.conv2(x)\n",
        "        logits = x.view(x.size(0), -1)\n",
        "        probs = F.softmax(logits, dim=1)\n",
        "        return logits, probs\n",
        "\n",
        "    def _make_stage(self, repeat, in_channels, out_channels, stride, t):\n",
        "\n",
        "        layers = []\n",
        "        layers.append(LinearBottleNeck(in_channels, out_channels, stride, t))\n",
        "\n",
        "        while repeat - 1:\n",
        "            layers.append(LinearBottleNeck(out_channels, out_channels, 1, t))\n",
        "            repeat -= 1\n",
        "\n",
        "        return nn.Sequential(*layers)"
      ],
      "execution_count": null,
      "outputs": []
    },
    {
      "cell_type": "code",
      "metadata": {
        "id": "gFVYAR0dW3EP",
        "outputId": "c04be03e-a8db-4e4c-ba09-bf5a06884487",
        "colab": {
          "base_uri": "https://localhost:8080/"
        }
      },
      "source": [
        "net = MobileNetV2()\n",
        "print(net)"
      ],
      "execution_count": null,
      "outputs": [
        {
          "output_type": "stream",
          "text": [
            "MobileNetV2(\n",
            "  (pre): Sequential(\n",
            "    (0): Conv2d(3, 32, kernel_size=(1, 1), stride=(1, 1), padding=(1, 1))\n",
            "    (1): BatchNorm2d(32, eps=1e-05, momentum=0.1, affine=True, track_running_stats=True)\n",
            "    (2): ReLU6(inplace=True)\n",
            "  )\n",
            "  (stage1): LinearBottleNeck(\n",
            "    (residual): Sequential(\n",
            "      (0): Conv2d(32, 32, kernel_size=(1, 1), stride=(1, 1))\n",
            "      (1): BatchNorm2d(32, eps=1e-05, momentum=0.1, affine=True, track_running_stats=True)\n",
            "      (2): ReLU6(inplace=True)\n",
            "      (3): Conv2d(32, 32, kernel_size=(3, 3), stride=(1, 1), padding=(1, 1), groups=32)\n",
            "      (4): BatchNorm2d(32, eps=1e-05, momentum=0.1, affine=True, track_running_stats=True)\n",
            "      (5): ReLU6(inplace=True)\n",
            "      (6): Conv2d(32, 16, kernel_size=(1, 1), stride=(1, 1))\n",
            "      (7): BatchNorm2d(16, eps=1e-05, momentum=0.1, affine=True, track_running_stats=True)\n",
            "    )\n",
            "  )\n",
            "  (stage2): Sequential(\n",
            "    (0): LinearBottleNeck(\n",
            "      (residual): Sequential(\n",
            "        (0): Conv2d(16, 96, kernel_size=(1, 1), stride=(1, 1))\n",
            "        (1): BatchNorm2d(96, eps=1e-05, momentum=0.1, affine=True, track_running_stats=True)\n",
            "        (2): ReLU6(inplace=True)\n",
            "        (3): Conv2d(96, 96, kernel_size=(3, 3), stride=(2, 2), padding=(1, 1), groups=96)\n",
            "        (4): BatchNorm2d(96, eps=1e-05, momentum=0.1, affine=True, track_running_stats=True)\n",
            "        (5): ReLU6(inplace=True)\n",
            "        (6): Conv2d(96, 24, kernel_size=(1, 1), stride=(1, 1))\n",
            "        (7): BatchNorm2d(24, eps=1e-05, momentum=0.1, affine=True, track_running_stats=True)\n",
            "      )\n",
            "    )\n",
            "    (1): LinearBottleNeck(\n",
            "      (residual): Sequential(\n",
            "        (0): Conv2d(24, 144, kernel_size=(1, 1), stride=(1, 1))\n",
            "        (1): BatchNorm2d(144, eps=1e-05, momentum=0.1, affine=True, track_running_stats=True)\n",
            "        (2): ReLU6(inplace=True)\n",
            "        (3): Conv2d(144, 144, kernel_size=(3, 3), stride=(1, 1), padding=(1, 1), groups=144)\n",
            "        (4): BatchNorm2d(144, eps=1e-05, momentum=0.1, affine=True, track_running_stats=True)\n",
            "        (5): ReLU6(inplace=True)\n",
            "        (6): Conv2d(144, 24, kernel_size=(1, 1), stride=(1, 1))\n",
            "        (7): BatchNorm2d(24, eps=1e-05, momentum=0.1, affine=True, track_running_stats=True)\n",
            "      )\n",
            "    )\n",
            "  )\n",
            "  (stage3): Sequential(\n",
            "    (0): LinearBottleNeck(\n",
            "      (residual): Sequential(\n",
            "        (0): Conv2d(24, 144, kernel_size=(1, 1), stride=(1, 1))\n",
            "        (1): BatchNorm2d(144, eps=1e-05, momentum=0.1, affine=True, track_running_stats=True)\n",
            "        (2): ReLU6(inplace=True)\n",
            "        (3): Conv2d(144, 144, kernel_size=(3, 3), stride=(2, 2), padding=(1, 1), groups=144)\n",
            "        (4): BatchNorm2d(144, eps=1e-05, momentum=0.1, affine=True, track_running_stats=True)\n",
            "        (5): ReLU6(inplace=True)\n",
            "        (6): Conv2d(144, 32, kernel_size=(1, 1), stride=(1, 1))\n",
            "        (7): BatchNorm2d(32, eps=1e-05, momentum=0.1, affine=True, track_running_stats=True)\n",
            "      )\n",
            "    )\n",
            "    (1): LinearBottleNeck(\n",
            "      (residual): Sequential(\n",
            "        (0): Conv2d(32, 192, kernel_size=(1, 1), stride=(1, 1))\n",
            "        (1): BatchNorm2d(192, eps=1e-05, momentum=0.1, affine=True, track_running_stats=True)\n",
            "        (2): ReLU6(inplace=True)\n",
            "        (3): Conv2d(192, 192, kernel_size=(3, 3), stride=(1, 1), padding=(1, 1), groups=192)\n",
            "        (4): BatchNorm2d(192, eps=1e-05, momentum=0.1, affine=True, track_running_stats=True)\n",
            "        (5): ReLU6(inplace=True)\n",
            "        (6): Conv2d(192, 32, kernel_size=(1, 1), stride=(1, 1))\n",
            "        (7): BatchNorm2d(32, eps=1e-05, momentum=0.1, affine=True, track_running_stats=True)\n",
            "      )\n",
            "    )\n",
            "    (2): LinearBottleNeck(\n",
            "      (residual): Sequential(\n",
            "        (0): Conv2d(32, 192, kernel_size=(1, 1), stride=(1, 1))\n",
            "        (1): BatchNorm2d(192, eps=1e-05, momentum=0.1, affine=True, track_running_stats=True)\n",
            "        (2): ReLU6(inplace=True)\n",
            "        (3): Conv2d(192, 192, kernel_size=(3, 3), stride=(1, 1), padding=(1, 1), groups=192)\n",
            "        (4): BatchNorm2d(192, eps=1e-05, momentum=0.1, affine=True, track_running_stats=True)\n",
            "        (5): ReLU6(inplace=True)\n",
            "        (6): Conv2d(192, 32, kernel_size=(1, 1), stride=(1, 1))\n",
            "        (7): BatchNorm2d(32, eps=1e-05, momentum=0.1, affine=True, track_running_stats=True)\n",
            "      )\n",
            "    )\n",
            "  )\n",
            "  (stage4): Sequential(\n",
            "    (0): LinearBottleNeck(\n",
            "      (residual): Sequential(\n",
            "        (0): Conv2d(32, 192, kernel_size=(1, 1), stride=(1, 1))\n",
            "        (1): BatchNorm2d(192, eps=1e-05, momentum=0.1, affine=True, track_running_stats=True)\n",
            "        (2): ReLU6(inplace=True)\n",
            "        (3): Conv2d(192, 192, kernel_size=(3, 3), stride=(2, 2), padding=(1, 1), groups=192)\n",
            "        (4): BatchNorm2d(192, eps=1e-05, momentum=0.1, affine=True, track_running_stats=True)\n",
            "        (5): ReLU6(inplace=True)\n",
            "        (6): Conv2d(192, 64, kernel_size=(1, 1), stride=(1, 1))\n",
            "        (7): BatchNorm2d(64, eps=1e-05, momentum=0.1, affine=True, track_running_stats=True)\n",
            "      )\n",
            "    )\n",
            "    (1): LinearBottleNeck(\n",
            "      (residual): Sequential(\n",
            "        (0): Conv2d(64, 384, kernel_size=(1, 1), stride=(1, 1))\n",
            "        (1): BatchNorm2d(384, eps=1e-05, momentum=0.1, affine=True, track_running_stats=True)\n",
            "        (2): ReLU6(inplace=True)\n",
            "        (3): Conv2d(384, 384, kernel_size=(3, 3), stride=(1, 1), padding=(1, 1), groups=384)\n",
            "        (4): BatchNorm2d(384, eps=1e-05, momentum=0.1, affine=True, track_running_stats=True)\n",
            "        (5): ReLU6(inplace=True)\n",
            "        (6): Conv2d(384, 64, kernel_size=(1, 1), stride=(1, 1))\n",
            "        (7): BatchNorm2d(64, eps=1e-05, momentum=0.1, affine=True, track_running_stats=True)\n",
            "      )\n",
            "    )\n",
            "    (2): LinearBottleNeck(\n",
            "      (residual): Sequential(\n",
            "        (0): Conv2d(64, 384, kernel_size=(1, 1), stride=(1, 1))\n",
            "        (1): BatchNorm2d(384, eps=1e-05, momentum=0.1, affine=True, track_running_stats=True)\n",
            "        (2): ReLU6(inplace=True)\n",
            "        (3): Conv2d(384, 384, kernel_size=(3, 3), stride=(1, 1), padding=(1, 1), groups=384)\n",
            "        (4): BatchNorm2d(384, eps=1e-05, momentum=0.1, affine=True, track_running_stats=True)\n",
            "        (5): ReLU6(inplace=True)\n",
            "        (6): Conv2d(384, 64, kernel_size=(1, 1), stride=(1, 1))\n",
            "        (7): BatchNorm2d(64, eps=1e-05, momentum=0.1, affine=True, track_running_stats=True)\n",
            "      )\n",
            "    )\n",
            "    (3): LinearBottleNeck(\n",
            "      (residual): Sequential(\n",
            "        (0): Conv2d(64, 384, kernel_size=(1, 1), stride=(1, 1))\n",
            "        (1): BatchNorm2d(384, eps=1e-05, momentum=0.1, affine=True, track_running_stats=True)\n",
            "        (2): ReLU6(inplace=True)\n",
            "        (3): Conv2d(384, 384, kernel_size=(3, 3), stride=(1, 1), padding=(1, 1), groups=384)\n",
            "        (4): BatchNorm2d(384, eps=1e-05, momentum=0.1, affine=True, track_running_stats=True)\n",
            "        (5): ReLU6(inplace=True)\n",
            "        (6): Conv2d(384, 64, kernel_size=(1, 1), stride=(1, 1))\n",
            "        (7): BatchNorm2d(64, eps=1e-05, momentum=0.1, affine=True, track_running_stats=True)\n",
            "      )\n",
            "    )\n",
            "  )\n",
            "  (stage5): Sequential(\n",
            "    (0): LinearBottleNeck(\n",
            "      (residual): Sequential(\n",
            "        (0): Conv2d(64, 384, kernel_size=(1, 1), stride=(1, 1))\n",
            "        (1): BatchNorm2d(384, eps=1e-05, momentum=0.1, affine=True, track_running_stats=True)\n",
            "        (2): ReLU6(inplace=True)\n",
            "        (3): Conv2d(384, 384, kernel_size=(3, 3), stride=(1, 1), padding=(1, 1), groups=384)\n",
            "        (4): BatchNorm2d(384, eps=1e-05, momentum=0.1, affine=True, track_running_stats=True)\n",
            "        (5): ReLU6(inplace=True)\n",
            "        (6): Conv2d(384, 96, kernel_size=(1, 1), stride=(1, 1))\n",
            "        (7): BatchNorm2d(96, eps=1e-05, momentum=0.1, affine=True, track_running_stats=True)\n",
            "      )\n",
            "    )\n",
            "    (1): LinearBottleNeck(\n",
            "      (residual): Sequential(\n",
            "        (0): Conv2d(96, 576, kernel_size=(1, 1), stride=(1, 1))\n",
            "        (1): BatchNorm2d(576, eps=1e-05, momentum=0.1, affine=True, track_running_stats=True)\n",
            "        (2): ReLU6(inplace=True)\n",
            "        (3): Conv2d(576, 576, kernel_size=(3, 3), stride=(1, 1), padding=(1, 1), groups=576)\n",
            "        (4): BatchNorm2d(576, eps=1e-05, momentum=0.1, affine=True, track_running_stats=True)\n",
            "        (5): ReLU6(inplace=True)\n",
            "        (6): Conv2d(576, 96, kernel_size=(1, 1), stride=(1, 1))\n",
            "        (7): BatchNorm2d(96, eps=1e-05, momentum=0.1, affine=True, track_running_stats=True)\n",
            "      )\n",
            "    )\n",
            "    (2): LinearBottleNeck(\n",
            "      (residual): Sequential(\n",
            "        (0): Conv2d(96, 576, kernel_size=(1, 1), stride=(1, 1))\n",
            "        (1): BatchNorm2d(576, eps=1e-05, momentum=0.1, affine=True, track_running_stats=True)\n",
            "        (2): ReLU6(inplace=True)\n",
            "        (3): Conv2d(576, 576, kernel_size=(3, 3), stride=(1, 1), padding=(1, 1), groups=576)\n",
            "        (4): BatchNorm2d(576, eps=1e-05, momentum=0.1, affine=True, track_running_stats=True)\n",
            "        (5): ReLU6(inplace=True)\n",
            "        (6): Conv2d(576, 96, kernel_size=(1, 1), stride=(1, 1))\n",
            "        (7): BatchNorm2d(96, eps=1e-05, momentum=0.1, affine=True, track_running_stats=True)\n",
            "      )\n",
            "    )\n",
            "  )\n",
            "  (stage6): Sequential(\n",
            "    (0): LinearBottleNeck(\n",
            "      (residual): Sequential(\n",
            "        (0): Conv2d(96, 576, kernel_size=(1, 1), stride=(1, 1))\n",
            "        (1): BatchNorm2d(576, eps=1e-05, momentum=0.1, affine=True, track_running_stats=True)\n",
            "        (2): ReLU6(inplace=True)\n",
            "        (3): Conv2d(576, 576, kernel_size=(3, 3), stride=(1, 1), padding=(1, 1), groups=576)\n",
            "        (4): BatchNorm2d(576, eps=1e-05, momentum=0.1, affine=True, track_running_stats=True)\n",
            "        (5): ReLU6(inplace=True)\n",
            "        (6): Conv2d(576, 160, kernel_size=(1, 1), stride=(1, 1))\n",
            "        (7): BatchNorm2d(160, eps=1e-05, momentum=0.1, affine=True, track_running_stats=True)\n",
            "      )\n",
            "    )\n",
            "    (1): LinearBottleNeck(\n",
            "      (residual): Sequential(\n",
            "        (0): Conv2d(160, 960, kernel_size=(1, 1), stride=(1, 1))\n",
            "        (1): BatchNorm2d(960, eps=1e-05, momentum=0.1, affine=True, track_running_stats=True)\n",
            "        (2): ReLU6(inplace=True)\n",
            "        (3): Conv2d(960, 960, kernel_size=(3, 3), stride=(1, 1), padding=(1, 1), groups=960)\n",
            "        (4): BatchNorm2d(960, eps=1e-05, momentum=0.1, affine=True, track_running_stats=True)\n",
            "        (5): ReLU6(inplace=True)\n",
            "        (6): Conv2d(960, 160, kernel_size=(1, 1), stride=(1, 1))\n",
            "        (7): BatchNorm2d(160, eps=1e-05, momentum=0.1, affine=True, track_running_stats=True)\n",
            "      )\n",
            "    )\n",
            "    (2): LinearBottleNeck(\n",
            "      (residual): Sequential(\n",
            "        (0): Conv2d(160, 960, kernel_size=(1, 1), stride=(1, 1))\n",
            "        (1): BatchNorm2d(960, eps=1e-05, momentum=0.1, affine=True, track_running_stats=True)\n",
            "        (2): ReLU6(inplace=True)\n",
            "        (3): Conv2d(960, 960, kernel_size=(3, 3), stride=(1, 1), padding=(1, 1), groups=960)\n",
            "        (4): BatchNorm2d(960, eps=1e-05, momentum=0.1, affine=True, track_running_stats=True)\n",
            "        (5): ReLU6(inplace=True)\n",
            "        (6): Conv2d(960, 160, kernel_size=(1, 1), stride=(1, 1))\n",
            "        (7): BatchNorm2d(160, eps=1e-05, momentum=0.1, affine=True, track_running_stats=True)\n",
            "      )\n",
            "    )\n",
            "  )\n",
            "  (stage7): LinearBottleNeck(\n",
            "    (residual): Sequential(\n",
            "      (0): Conv2d(160, 960, kernel_size=(1, 1), stride=(1, 1))\n",
            "      (1): BatchNorm2d(960, eps=1e-05, momentum=0.1, affine=True, track_running_stats=True)\n",
            "      (2): ReLU6(inplace=True)\n",
            "      (3): Conv2d(960, 960, kernel_size=(3, 3), stride=(1, 1), padding=(1, 1), groups=960)\n",
            "      (4): BatchNorm2d(960, eps=1e-05, momentum=0.1, affine=True, track_running_stats=True)\n",
            "      (5): ReLU6(inplace=True)\n",
            "      (6): Conv2d(960, 320, kernel_size=(1, 1), stride=(1, 1))\n",
            "      (7): BatchNorm2d(320, eps=1e-05, momentum=0.1, affine=True, track_running_stats=True)\n",
            "    )\n",
            "  )\n",
            "  (conv1): Sequential(\n",
            "    (0): Conv2d(320, 1280, kernel_size=(1, 1), stride=(1, 1))\n",
            "    (1): BatchNorm2d(1280, eps=1e-05, momentum=0.1, affine=True, track_running_stats=True)\n",
            "    (2): ReLU6(inplace=True)\n",
            "  )\n",
            "  (conv2): Conv2d(1280, 10, kernel_size=(1, 1), stride=(1, 1))\n",
            ")\n"
          ],
          "name": "stdout"
        }
      ]
    },
    {
      "cell_type": "code",
      "metadata": {
        "id": "TsyjkKrEW3EY",
        "outputId": "5e3f4d5a-347a-4d5b-c2c9-d6b77c7dc8b4",
        "colab": {
          "base_uri": "https://localhost:8080/"
        }
      },
      "source": [
        "device = 'cuda' if torch.cuda.is_available() else 'cpu'\n",
        "print(device)"
      ],
      "execution_count": null,
      "outputs": [
        {
          "output_type": "stream",
          "text": [
            "cuda\n"
          ],
          "name": "stdout"
        }
      ]
    },
    {
      "cell_type": "code",
      "metadata": {
        "id": "njiOLZ2DW3Ed",
        "outputId": "38dfefb5-4eb6-44fd-e00b-05eee77bb143",
        "colab": {
          "base_uri": "https://localhost:8080/"
        }
      },
      "source": [
        "net = net.to(device)\n",
        "torch.cuda.is_available()"
      ],
      "execution_count": null,
      "outputs": [
        {
          "output_type": "execute_result",
          "data": {
            "text/plain": [
              "True"
            ]
          },
          "metadata": {
            "tags": []
          },
          "execution_count": 14
        }
      ]
    },
    {
      "cell_type": "code",
      "metadata": {
        "id": "PeJQ9ZEUX233",
        "outputId": "0d9d7fe9-e545-4d1e-ac6c-a63181433806",
        "colab": {
          "base_uri": "https://localhost:8080/"
        }
      },
      "source": [
        "summary(net, input_size=(3, 32, 32))"
      ],
      "execution_count": null,
      "outputs": [
        {
          "output_type": "stream",
          "text": [
            "----------------------------------------------------------------\n",
            "        Layer (type)               Output Shape         Param #\n",
            "================================================================\n",
            "            Conv2d-1           [-1, 32, 34, 34]             128\n",
            "       BatchNorm2d-2           [-1, 32, 34, 34]              64\n",
            "             ReLU6-3           [-1, 32, 34, 34]               0\n",
            "            Conv2d-4           [-1, 32, 34, 34]           1,056\n",
            "       BatchNorm2d-5           [-1, 32, 34, 34]              64\n",
            "             ReLU6-6           [-1, 32, 34, 34]               0\n",
            "            Conv2d-7           [-1, 32, 34, 34]             320\n",
            "       BatchNorm2d-8           [-1, 32, 34, 34]              64\n",
            "             ReLU6-9           [-1, 32, 34, 34]               0\n",
            "           Conv2d-10           [-1, 16, 34, 34]             528\n",
            "      BatchNorm2d-11           [-1, 16, 34, 34]              32\n",
            " LinearBottleNeck-12           [-1, 16, 34, 34]               0\n",
            "           Conv2d-13           [-1, 96, 34, 34]           1,632\n",
            "      BatchNorm2d-14           [-1, 96, 34, 34]             192\n",
            "            ReLU6-15           [-1, 96, 34, 34]               0\n",
            "           Conv2d-16           [-1, 96, 17, 17]             960\n",
            "      BatchNorm2d-17           [-1, 96, 17, 17]             192\n",
            "            ReLU6-18           [-1, 96, 17, 17]               0\n",
            "           Conv2d-19           [-1, 24, 17, 17]           2,328\n",
            "      BatchNorm2d-20           [-1, 24, 17, 17]              48\n",
            " LinearBottleNeck-21           [-1, 24, 17, 17]               0\n",
            "           Conv2d-22          [-1, 144, 17, 17]           3,600\n",
            "      BatchNorm2d-23          [-1, 144, 17, 17]             288\n",
            "            ReLU6-24          [-1, 144, 17, 17]               0\n",
            "           Conv2d-25          [-1, 144, 17, 17]           1,440\n",
            "      BatchNorm2d-26          [-1, 144, 17, 17]             288\n",
            "            ReLU6-27          [-1, 144, 17, 17]               0\n",
            "           Conv2d-28           [-1, 24, 17, 17]           3,480\n",
            "      BatchNorm2d-29           [-1, 24, 17, 17]              48\n",
            " LinearBottleNeck-30           [-1, 24, 17, 17]               0\n",
            "           Conv2d-31          [-1, 144, 17, 17]           3,600\n",
            "      BatchNorm2d-32          [-1, 144, 17, 17]             288\n",
            "            ReLU6-33          [-1, 144, 17, 17]               0\n",
            "           Conv2d-34            [-1, 144, 9, 9]           1,440\n",
            "      BatchNorm2d-35            [-1, 144, 9, 9]             288\n",
            "            ReLU6-36            [-1, 144, 9, 9]               0\n",
            "           Conv2d-37             [-1, 32, 9, 9]           4,640\n",
            "      BatchNorm2d-38             [-1, 32, 9, 9]              64\n",
            " LinearBottleNeck-39             [-1, 32, 9, 9]               0\n",
            "           Conv2d-40            [-1, 192, 9, 9]           6,336\n",
            "      BatchNorm2d-41            [-1, 192, 9, 9]             384\n",
            "            ReLU6-42            [-1, 192, 9, 9]               0\n",
            "           Conv2d-43            [-1, 192, 9, 9]           1,920\n",
            "      BatchNorm2d-44            [-1, 192, 9, 9]             384\n",
            "            ReLU6-45            [-1, 192, 9, 9]               0\n",
            "           Conv2d-46             [-1, 32, 9, 9]           6,176\n",
            "      BatchNorm2d-47             [-1, 32, 9, 9]              64\n",
            " LinearBottleNeck-48             [-1, 32, 9, 9]               0\n",
            "           Conv2d-49            [-1, 192, 9, 9]           6,336\n",
            "      BatchNorm2d-50            [-1, 192, 9, 9]             384\n",
            "            ReLU6-51            [-1, 192, 9, 9]               0\n",
            "           Conv2d-52            [-1, 192, 9, 9]           1,920\n",
            "      BatchNorm2d-53            [-1, 192, 9, 9]             384\n",
            "            ReLU6-54            [-1, 192, 9, 9]               0\n",
            "           Conv2d-55             [-1, 32, 9, 9]           6,176\n",
            "      BatchNorm2d-56             [-1, 32, 9, 9]              64\n",
            " LinearBottleNeck-57             [-1, 32, 9, 9]               0\n",
            "           Conv2d-58            [-1, 192, 9, 9]           6,336\n",
            "      BatchNorm2d-59            [-1, 192, 9, 9]             384\n",
            "            ReLU6-60            [-1, 192, 9, 9]               0\n",
            "           Conv2d-61            [-1, 192, 5, 5]           1,920\n",
            "      BatchNorm2d-62            [-1, 192, 5, 5]             384\n",
            "            ReLU6-63            [-1, 192, 5, 5]               0\n",
            "           Conv2d-64             [-1, 64, 5, 5]          12,352\n",
            "      BatchNorm2d-65             [-1, 64, 5, 5]             128\n",
            " LinearBottleNeck-66             [-1, 64, 5, 5]               0\n",
            "           Conv2d-67            [-1, 384, 5, 5]          24,960\n",
            "      BatchNorm2d-68            [-1, 384, 5, 5]             768\n",
            "            ReLU6-69            [-1, 384, 5, 5]               0\n",
            "           Conv2d-70            [-1, 384, 5, 5]           3,840\n",
            "      BatchNorm2d-71            [-1, 384, 5, 5]             768\n",
            "            ReLU6-72            [-1, 384, 5, 5]               0\n",
            "           Conv2d-73             [-1, 64, 5, 5]          24,640\n",
            "      BatchNorm2d-74             [-1, 64, 5, 5]             128\n",
            " LinearBottleNeck-75             [-1, 64, 5, 5]               0\n",
            "           Conv2d-76            [-1, 384, 5, 5]          24,960\n",
            "      BatchNorm2d-77            [-1, 384, 5, 5]             768\n",
            "            ReLU6-78            [-1, 384, 5, 5]               0\n",
            "           Conv2d-79            [-1, 384, 5, 5]           3,840\n",
            "      BatchNorm2d-80            [-1, 384, 5, 5]             768\n",
            "            ReLU6-81            [-1, 384, 5, 5]               0\n",
            "           Conv2d-82             [-1, 64, 5, 5]          24,640\n",
            "      BatchNorm2d-83             [-1, 64, 5, 5]             128\n",
            " LinearBottleNeck-84             [-1, 64, 5, 5]               0\n",
            "           Conv2d-85            [-1, 384, 5, 5]          24,960\n",
            "      BatchNorm2d-86            [-1, 384, 5, 5]             768\n",
            "            ReLU6-87            [-1, 384, 5, 5]               0\n",
            "           Conv2d-88            [-1, 384, 5, 5]           3,840\n",
            "      BatchNorm2d-89            [-1, 384, 5, 5]             768\n",
            "            ReLU6-90            [-1, 384, 5, 5]               0\n",
            "           Conv2d-91             [-1, 64, 5, 5]          24,640\n",
            "      BatchNorm2d-92             [-1, 64, 5, 5]             128\n",
            " LinearBottleNeck-93             [-1, 64, 5, 5]               0\n",
            "           Conv2d-94            [-1, 384, 5, 5]          24,960\n",
            "      BatchNorm2d-95            [-1, 384, 5, 5]             768\n",
            "            ReLU6-96            [-1, 384, 5, 5]               0\n",
            "           Conv2d-97            [-1, 384, 5, 5]           3,840\n",
            "      BatchNorm2d-98            [-1, 384, 5, 5]             768\n",
            "            ReLU6-99            [-1, 384, 5, 5]               0\n",
            "          Conv2d-100             [-1, 96, 5, 5]          36,960\n",
            "     BatchNorm2d-101             [-1, 96, 5, 5]             192\n",
            "LinearBottleNeck-102             [-1, 96, 5, 5]               0\n",
            "          Conv2d-103            [-1, 576, 5, 5]          55,872\n",
            "     BatchNorm2d-104            [-1, 576, 5, 5]           1,152\n",
            "           ReLU6-105            [-1, 576, 5, 5]               0\n",
            "          Conv2d-106            [-1, 576, 5, 5]           5,760\n",
            "     BatchNorm2d-107            [-1, 576, 5, 5]           1,152\n",
            "           ReLU6-108            [-1, 576, 5, 5]               0\n",
            "          Conv2d-109             [-1, 96, 5, 5]          55,392\n",
            "     BatchNorm2d-110             [-1, 96, 5, 5]             192\n",
            "LinearBottleNeck-111             [-1, 96, 5, 5]               0\n",
            "          Conv2d-112            [-1, 576, 5, 5]          55,872\n",
            "     BatchNorm2d-113            [-1, 576, 5, 5]           1,152\n",
            "           ReLU6-114            [-1, 576, 5, 5]               0\n",
            "          Conv2d-115            [-1, 576, 5, 5]           5,760\n",
            "     BatchNorm2d-116            [-1, 576, 5, 5]           1,152\n",
            "           ReLU6-117            [-1, 576, 5, 5]               0\n",
            "          Conv2d-118             [-1, 96, 5, 5]          55,392\n",
            "     BatchNorm2d-119             [-1, 96, 5, 5]             192\n",
            "LinearBottleNeck-120             [-1, 96, 5, 5]               0\n",
            "          Conv2d-121            [-1, 576, 5, 5]          55,872\n",
            "     BatchNorm2d-122            [-1, 576, 5, 5]           1,152\n",
            "           ReLU6-123            [-1, 576, 5, 5]               0\n",
            "          Conv2d-124            [-1, 576, 5, 5]           5,760\n",
            "     BatchNorm2d-125            [-1, 576, 5, 5]           1,152\n",
            "           ReLU6-126            [-1, 576, 5, 5]               0\n",
            "          Conv2d-127            [-1, 160, 5, 5]          92,320\n",
            "     BatchNorm2d-128            [-1, 160, 5, 5]             320\n",
            "LinearBottleNeck-129            [-1, 160, 5, 5]               0\n",
            "          Conv2d-130            [-1, 960, 5, 5]         154,560\n",
            "     BatchNorm2d-131            [-1, 960, 5, 5]           1,920\n",
            "           ReLU6-132            [-1, 960, 5, 5]               0\n",
            "          Conv2d-133            [-1, 960, 5, 5]           9,600\n",
            "     BatchNorm2d-134            [-1, 960, 5, 5]           1,920\n",
            "           ReLU6-135            [-1, 960, 5, 5]               0\n",
            "          Conv2d-136            [-1, 160, 5, 5]         153,760\n",
            "     BatchNorm2d-137            [-1, 160, 5, 5]             320\n",
            "LinearBottleNeck-138            [-1, 160, 5, 5]               0\n",
            "          Conv2d-139            [-1, 960, 5, 5]         154,560\n",
            "     BatchNorm2d-140            [-1, 960, 5, 5]           1,920\n",
            "           ReLU6-141            [-1, 960, 5, 5]               0\n",
            "          Conv2d-142            [-1, 960, 5, 5]           9,600\n",
            "     BatchNorm2d-143            [-1, 960, 5, 5]           1,920\n",
            "           ReLU6-144            [-1, 960, 5, 5]               0\n",
            "          Conv2d-145            [-1, 160, 5, 5]         153,760\n",
            "     BatchNorm2d-146            [-1, 160, 5, 5]             320\n",
            "LinearBottleNeck-147            [-1, 160, 5, 5]               0\n",
            "          Conv2d-148            [-1, 960, 5, 5]         154,560\n",
            "     BatchNorm2d-149            [-1, 960, 5, 5]           1,920\n",
            "           ReLU6-150            [-1, 960, 5, 5]               0\n",
            "          Conv2d-151            [-1, 960, 5, 5]           9,600\n",
            "     BatchNorm2d-152            [-1, 960, 5, 5]           1,920\n",
            "           ReLU6-153            [-1, 960, 5, 5]               0\n",
            "          Conv2d-154            [-1, 320, 5, 5]         307,520\n",
            "     BatchNorm2d-155            [-1, 320, 5, 5]             640\n",
            "LinearBottleNeck-156            [-1, 320, 5, 5]               0\n",
            "          Conv2d-157           [-1, 1280, 5, 5]         410,880\n",
            "     BatchNorm2d-158           [-1, 1280, 5, 5]           2,560\n",
            "           ReLU6-159           [-1, 1280, 5, 5]               0\n",
            "          Conv2d-160             [-1, 10, 1, 1]          12,810\n",
            "================================================================\n",
            "Total params: 2,254,090\n",
            "Trainable params: 2,254,090\n",
            "Non-trainable params: 0\n",
            "----------------------------------------------------------------\n",
            "Input size (MB): 0.01\n",
            "Forward/backward pass size (MB): 20.18\n",
            "Params size (MB): 8.60\n",
            "Estimated Total Size (MB): 28.79\n",
            "----------------------------------------------------------------\n"
          ],
          "name": "stdout"
        }
      ]
    },
    {
      "cell_type": "markdown",
      "metadata": {
        "id": "D-qHEyN7W3Eu"
      },
      "source": [
        "## Data preparation"
      ]
    },
    {
      "cell_type": "code",
      "metadata": {
        "id": "br2xtGu7W3Eu"
      },
      "source": [
        "transform = transforms.Compose([\n",
        "    transforms.RandomHorizontalFlip(),\n",
        "    transforms.ToTensor(),\n",
        "    transforms.Normalize((0.5, 0.5, 0.5), (0.5, 0.5, 0.5)),\n",
        "])"
      ],
      "execution_count": null,
      "outputs": []
    },
    {
      "cell_type": "code",
      "metadata": {
        "id": "K0zqQvNyW3Ez",
        "outputId": "24e011ed-ebe6-41f5-e5b4-e45cd97cce50",
        "colab": {
          "base_uri": "https://localhost:8080/",
          "height": 100,
          "referenced_widgets": [
            "e3cab5b1d33e4e62b6d1163cadf59d41",
            "36b5cd67c03046479591c274f8f989e6",
            "19ddb516e6784bfc8858160e06082a9d",
            "694dcbc1cbea4111b37d1ba822b1904d",
            "4f228d3070e2401a9fa20769095eb1ab",
            "4a059e29688a498cb96a57e0e0c95390",
            "abe9a428cc3d477ca471391e1b993726",
            "75f26e177fdf4775ad40d6990793dd2d"
          ]
        }
      },
      "source": [
        "train_set = torchvision.datasets.CIFAR10('./datasets', train=True, \n",
        "                                         download=True, transform=transform)\n",
        "test_set = torchvision.datasets.CIFAR10('./datasets', train=False, \n",
        "                                        download=True, transform=transform)\n",
        "\n",
        "train_loader = torch.utils.data.DataLoader(train_set, batch_size=128, \n",
        "                                           shuffle=True, num_workers=4)\n",
        "test_loader = torch.utils.data.DataLoader(test_set, batch_size=100, \n",
        "                                          shuffle=False, num_workers=4)\n",
        "\n",
        "classes = ('plane', 'car', 'bird', 'cat', 'deer',\n",
        "           'dog', 'frog', 'horse', 'ship', 'truck')"
      ],
      "execution_count": null,
      "outputs": [
        {
          "output_type": "stream",
          "text": [
            "Downloading https://www.cs.toronto.edu/~kriz/cifar-10-python.tar.gz to ./datasets/cifar-10-python.tar.gz\n"
          ],
          "name": "stdout"
        },
        {
          "output_type": "display_data",
          "data": {
            "application/vnd.jupyter.widget-view+json": {
              "model_id": "e3cab5b1d33e4e62b6d1163cadf59d41",
              "version_minor": 0,
              "version_major": 2
            },
            "text/plain": [
              "HBox(children=(FloatProgress(value=1.0, bar_style='info', max=1.0), HTML(value='')))"
            ]
          },
          "metadata": {
            "tags": []
          }
        },
        {
          "output_type": "stream",
          "text": [
            "Extracting ./datasets/cifar-10-python.tar.gz to ./datasets\n",
            "Files already downloaded and verified\n"
          ],
          "name": "stdout"
        }
      ]
    },
    {
      "cell_type": "code",
      "metadata": {
        "id": "3lNx7bP3W3E2",
        "outputId": "6de8ae21-b00a-45e0-c60c-fbfcd3fd6130",
        "colab": {
          "base_uri": "https://localhost:8080/",
          "height": 155
        }
      },
      "source": [
        "import matplotlib.pyplot as plt\n",
        "import numpy as np\n",
        "\n",
        "def imshow(img):\n",
        "    img = img / 2 + 0.5\n",
        "    plt.imshow(np.transpose(img.numpy(), (1, 2, 0)))\n",
        "    plt.show()\n",
        "    \n",
        "image_iter = iter(train_loader)\n",
        "images, _ = image_iter.next()\n",
        "imshow(torchvision.utils.make_grid(images[:4]))"
      ],
      "execution_count": null,
      "outputs": [
        {
          "output_type": "display_data",
          "data": {
            "image/png": "[encoded data removed]",
            "text/plain": [
              "<Figure size 432x288 with 1 Axes>"
            ]
          },
          "metadata": {
            "tags": [],
            "needs_background": "light"
          }
        },
        {
          "output_type": "stream",
          "text": [
            "\n"
          ],
          "name": "stdout"
        }
      ]
    },
    {
      "cell_type": "code",
      "metadata": {
        "id": "SiLSG4ScW3E5"
      },
      "source": [
        "lr = 1e-3\n",
        "momentum = 0.9\n",
        "weight_decay = 5e-4\n",
        "epochs = 20"
      ],
      "execution_count": null,
      "outputs": []
    },
    {
      "cell_type": "code",
      "metadata": {
        "id": "__F06lXiW3E8"
      },
      "source": [
        "criterion = nn.CrossEntropyLoss()\n",
        "optimizer = optim.SGD(net.parameters(), lr=lr, momentum=momentum, weight_decay=weight_decay,  nesterov=True)"
      ],
      "execution_count": null,
      "outputs": []
    },
    {
      "cell_type": "markdown",
      "metadata": {
        "id": "8hB7f0JFW3FA"
      },
      "source": [
        "### Training"
      ]
    },
    {
      "cell_type": "code",
      "metadata": {
        "id": "Xy39_sbbW3FA"
      },
      "source": [
        "def get_accuracy(model, data_loader, device):\n",
        "    '''\n",
        "    Function for computing the accuracy of the predictions over the entire data_loader\n",
        "    '''\n",
        "    \n",
        "    correct_pred = 0 \n",
        "    n = 0\n",
        "    \n",
        "    with torch.no_grad():\n",
        "        model.eval()\n",
        "        for X, y_true in data_loader:\n",
        "\n",
        "            X = X.to(device)\n",
        "            y_true = y_true.to(device)\n",
        "\n",
        "            _, y_prob = model(X)\n",
        "            _, predicted_labels = torch.max(y_prob, 1)\n",
        "\n",
        "            n += y_true.size(0)\n",
        "            correct_pred += (predicted_labels == y_true).sum()\n",
        "\n",
        "    return correct_pred.float() / n"
      ],
      "execution_count": null,
      "outputs": []
    },
    {
      "cell_type": "code",
      "metadata": {
        "id": "C_un6diCW3FD"
      },
      "source": [
        "def train(train_loader, model, criterion, optimizer, device):\n",
        "    '''\n",
        "    Function for the training step of the training loop\n",
        "    '''\n",
        "\n",
        "    model.train()\n",
        "    running_loss = 0\n",
        "    \n",
        "    for X, y_true in train_loader:\n",
        "\n",
        "        optimizer.zero_grad()\n",
        "        \n",
        "        X = X.to(device)\n",
        "        y_true = y_true.to(device)\n",
        "    \n",
        "        # Forward pass\n",
        "        y_hat, _ = model(X) \n",
        "        loss = criterion(y_hat, y_true) \n",
        "        running_loss += loss.item() * X.size(0)\n",
        "\n",
        "        # Backward pass\n",
        "        loss.backward()\n",
        "        optimizer.step()\n",
        "        \n",
        "    epoch_loss = running_loss / len(train_loader.dataset)\n",
        "    return model, optimizer, epoch_loss"
      ],
      "execution_count": null,
      "outputs": []
    },
    {
      "cell_type": "code",
      "metadata": {
        "id": "hlkfz4_aW3FH"
      },
      "source": [
        "\n",
        "def validate(valid_loader, model, criterion, device):\n",
        "    '''\n",
        "    Function for the validation step of the training loop\n",
        "    '''\n",
        "    model.eval()\n",
        "    running_loss = 0\n",
        "    \n",
        "    for X, y_true in valid_loader:\n",
        "    \n",
        "        X = X.to(device)\n",
        "        y_true = y_true.to(device)\n",
        "\n",
        "        # Forward pass and record loss\n",
        "        y_hat, _ = model(X) \n",
        "        loss = criterion(y_hat, y_true) \n",
        "        running_loss += loss.item() * X.size(0)\n",
        "\n",
        "    epoch_loss = running_loss / len(valid_loader.dataset)\n",
        "        \n",
        "    return model, epoch_loss"
      ],
      "execution_count": null,
      "outputs": []
    },
    {
      "cell_type": "code",
      "metadata": {
        "id": "2SDG6ivDW3FL"
      },
      "source": [
        "def training_loop(model, criterion, optimizer, train_loader, valid_loader, epochs, device, print_every=1):\n",
        "    '''\n",
        "    Function defining the entire training loop\n",
        "    '''\n",
        "    \n",
        "    # set objects for storing metrics\n",
        "    best_loss = 1e10\n",
        "    train_losses = []\n",
        "    valid_losses = []\n",
        "\n",
        "    # Train model\n",
        "    for epoch in range(0, epochs):\n",
        "\n",
        "        # training\n",
        "        model, optimizer, train_loss = train(train_loader, model, criterion, optimizer, device)\n",
        "        train_losses.append(train_loss)\n",
        "\n",
        "        # validation\n",
        "        with torch.no_grad():\n",
        "            model, valid_loss = validate(valid_loader, model, criterion, device)\n",
        "            valid_losses.append(valid_loss)\n",
        "\n",
        "        if epoch % print_every == (print_every - 1):\n",
        "            \n",
        "            train_acc = get_accuracy(model, train_loader, device=device)\n",
        "            valid_acc = get_accuracy(model, valid_loader, device=device)\n",
        "                \n",
        "            print(f'{datetime.now().time().replace(microsecond=0)} --- '\n",
        "                  f'Epoch: {epoch}\\t'\n",
        "                  f'Train loss: {train_loss:.4f}\\t'\n",
        "                  f'Valid loss: {valid_loss:.4f}\\t'\n",
        "                  f'Train accuracy: {100 * train_acc:.2f}\\t'\n",
        "                  f'Valid accuracy: {100 * valid_acc:.2f}')\n",
        "\n",
        "    \n",
        "    return model, optimizer, (train_losses, valid_losses)"
      ],
      "execution_count": null,
      "outputs": []
    },
    {
      "cell_type": "code",
      "metadata": {
        "id": "w2P3Ia9dW3FP",
        "outputId": "2797240d-572b-4029-b2aa-5bf96855223c",
        "colab": {
          "base_uri": "https://localhost:8080/"
        }
      },
      "source": [
        "model, optimizer, _ = training_loop(net, criterion, optimizer, train_loader, test_loader, epochs, device)"
      ],
      "execution_count": null,
      "outputs": [
        {
          "output_type": "stream",
          "text": [
            "07:31:07 --- Epoch: 0\tTrain loss: 2.0404\tValid loss: 1.7507\tTrain accuracy: 31.81\tValid accuracy: 32.34\n",
            "07:31:58 --- Epoch: 1\tTrain loss: 1.6364\tValid loss: 1.5305\tTrain accuracy: 42.06\tValid accuracy: 42.40\n",
            "07:32:49 --- Epoch: 2\tTrain loss: 1.4607\tValid loss: 1.4038\tTrain accuracy: 48.76\tValid accuracy: 47.48\n",
            "07:33:41 --- Epoch: 3\tTrain loss: 1.3459\tValid loss: 1.3162\tTrain accuracy: 53.17\tValid accuracy: 51.07\n",
            "07:34:33 --- Epoch: 4\tTrain loss: 1.2574\tValid loss: 1.2336\tTrain accuracy: 57.03\tValid accuracy: 54.46\n",
            "07:35:25 --- Epoch: 5\tTrain loss: 1.1711\tValid loss: 1.1661\tTrain accuracy: 60.69\tValid accuracy: 57.48\n",
            "07:36:17 --- Epoch: 6\tTrain loss: 1.0961\tValid loss: 1.1265\tTrain accuracy: 62.93\tValid accuracy: 59.16\n",
            "07:37:09 --- Epoch: 7\tTrain loss: 1.0287\tValid loss: 1.0650\tTrain accuracy: 66.45\tValid accuracy: 61.75\n",
            "07:38:01 --- Epoch: 8\tTrain loss: 0.9632\tValid loss: 1.0408\tTrain accuracy: 68.00\tValid accuracy: 62.94\n",
            "07:38:52 --- Epoch: 9\tTrain loss: 0.9141\tValid loss: 1.0364\tTrain accuracy: 69.18\tValid accuracy: 63.38\n",
            "07:39:44 --- Epoch: 10\tTrain loss: 0.8634\tValid loss: 0.9985\tTrain accuracy: 71.48\tValid accuracy: 64.98\n",
            "07:40:35 --- Epoch: 11\tTrain loss: 0.8190\tValid loss: 0.9712\tTrain accuracy: 73.61\tValid accuracy: 65.88\n",
            "07:41:27 --- Epoch: 12\tTrain loss: 0.7758\tValid loss: 0.9544\tTrain accuracy: 75.03\tValid accuracy: 67.12\n",
            "07:42:19 --- Epoch: 13\tTrain loss: 0.7394\tValid loss: 0.9553\tTrain accuracy: 76.08\tValid accuracy: 66.63\n",
            "07:43:10 --- Epoch: 14\tTrain loss: 0.7011\tValid loss: 0.9526\tTrain accuracy: 77.84\tValid accuracy: 67.63\n",
            "07:44:02 --- Epoch: 15\tTrain loss: 0.6674\tValid loss: 0.9246\tTrain accuracy: 79.82\tValid accuracy: 68.15\n",
            "07:44:54 --- Epoch: 16\tTrain loss: 0.6317\tValid loss: 0.9485\tTrain accuracy: 80.28\tValid accuracy: 68.04\n",
            "07:45:45 --- Epoch: 17\tTrain loss: 0.6056\tValid loss: 0.9691\tTrain accuracy: 80.00\tValid accuracy: 67.77\n",
            "07:46:36 --- Epoch: 18\tTrain loss: 0.5769\tValid loss: 0.9532\tTrain accuracy: 82.46\tValid accuracy: 68.34\n",
            "07:47:28 --- Epoch: 19\tTrain loss: 0.5454\tValid loss: 0.9593\tTrain accuracy: 82.92\tValid accuracy: 68.62\n"
          ],
          "name": "stdout"
        }
      ]
    }
  ]
}