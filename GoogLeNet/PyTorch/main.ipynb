{
  "nbformat": 4,
  "nbformat_minor": 0,
  "metadata": {
    "kernelspec": {
      "name": "python3",
      "display_name": "Python 3"
    },
    "colab": {
      "name": "main.ipynb",
      "provenance": [],
      "collapsed_sections": [],
      "toc_visible": true
    },
    "accelerator": "GPU"
  },
  "cells": [
    {
      "cell_type": "markdown",
      "metadata": {
        "id": "KLCMksRC8cfH"
      },
      "source": [
        "## GoogLinput_channels, n1x1, n3x3_reduce, n3x3, n5x5_reduce, n5x5, pool_projeNet a.k.a Inception V1"
      ]
    },
    {
      "cell_type": "markdown",
      "metadata": {
        "id": "7IcW5DtI8cfJ"
      },
      "source": [
        "Google Net (or Inception V1) was proposed by research at Google (with the collaboration of various universities) in 2014 in the research paper titled “Going Deeper with Convolutions”. This architecture was the winner at the ILSVRC 2014 image classification challenge. It has provided a significant decrease in error rate as compared to previous winners AlexNet (Winner of ILSVRC 2012) and ZF-Net (Winner of ILSVRC 2013) and significantly less error rate than VGG (2014 runner up). This architecture uses techniques such as 1×1 convolutions in the middle of the architecture and global average pooling."
      ]
    },
    {
      "cell_type": "code",
      "metadata": {
        "id": "guKzWF-U8cfL",
        "outputId": "36490429-e576-486c-808e-8c328a687034",
        "colab": {
          "base_uri": "https://localhost:8080/",
          "height": 102
        }
      },
      "source": [
        "\n",
        "import os\n",
        "import torch\n",
        "import torch.nn as nn\n",
        "import torch.optim as optim\n",
        "import torch.nn.functional as F\n",
        "import torchvision\n",
        "import torchvision.transforms as transforms\n",
        "\n",
        "from torchsummary import summary\n",
        "from datetime import datetime\n",
        "\n",
        "!pip3 install torchviz\n",
        "from torchviz import make_dot"
      ],
      "execution_count": 23,
      "outputs": [
        {
          "output_type": "stream",
          "text": [
            "Requirement already satisfied: torchviz in /usr/local/lib/python3.6/dist-packages (0.0.1)\n",
            "Requirement already satisfied: torch in /usr/local/lib/python3.6/dist-packages (from torchviz) (1.6.0+cu101)\n",
            "Requirement already satisfied: graphviz in /usr/local/lib/python3.6/dist-packages (from torchviz) (0.10.1)\n",
            "Requirement already satisfied: numpy in /usr/local/lib/python3.6/dist-packages (from torch->torchviz) (1.18.5)\n",
            "Requirement already satisfied: future in /usr/local/lib/python3.6/dist-packages (from torch->torchviz) (0.16.0)\n"
          ],
          "name": "stdout"
        }
      ]
    },
    {
      "cell_type": "markdown",
      "metadata": {
        "id": "yJ8Oe1GJ8cfT"
      },
      "source": [
        "### 1) Building the Architecture"
      ]
    },
    {
      "cell_type": "markdown",
      "metadata": {
        "id": "heDaM9bq8cfV"
      },
      "source": [
        "#### Inception Module"
      ]
    },
    {
      "cell_type": "code",
      "metadata": {
        "id": "uKl-H6rJ8cfW"
      },
      "source": [
        "class Inception(nn.Module):\n",
        "    def __init__(self, input_channels, n1x1, n3x3_reduce, n3x3, n5x5_reduce, n5x5, pool_proj):\n",
        "        super().__init__()\n",
        "        \n",
        "        # 1x1 conv branch\n",
        "        self.b1 = nn.Sequential(\n",
        "            nn.Conv2d(input_channels, n1x1, kernel_size=1),\n",
        "            nn.BatchNorm2d(n1x1),\n",
        "            nn.ReLU(inplace=True)\n",
        "        )\n",
        "        \n",
        "        #1x1conv -> 3x3conv branch\n",
        "        self.b2 = nn.Sequential(\n",
        "            nn.Conv2d(input_channels, n3x3_reduce, kernel_size=1),\n",
        "            nn.BatchNorm2d(n3x3_reduce),\n",
        "            nn.ReLU(inplace=True),\n",
        "            nn.Conv2d(n3x3_reduce, n3x3, kernel_size=3, padding=1),\n",
        "            nn.BatchNorm2d(n3x3),\n",
        "            nn.ReLU(inplace=True)\n",
        "        )\n",
        "        \n",
        "        #1x1conv -> 5x5conv branch\n",
        "        #we use 2 3x3 conv filters stacked instead\n",
        "        #of 1 5x5 filters to obtain the same receptive\n",
        "        #field with fewer parameters\n",
        "        self.b3 = nn.Sequential(\n",
        "            nn.Conv2d(input_channels, n5x5_reduce, kernel_size=1),\n",
        "            nn.BatchNorm2d(n5x5_reduce),\n",
        "            nn.ReLU(inplace=True),\n",
        "            nn.Conv2d(n5x5_reduce, n5x5, kernel_size=3, padding=1),\n",
        "            nn.BatchNorm2d(n5x5, n5x5),\n",
        "            nn.ReLU(inplace=True),\n",
        "            nn.Conv2d(n5x5, n5x5, kernel_size=3, padding=1),\n",
        "            nn.BatchNorm2d(n5x5),\n",
        "            nn.ReLU(inplace=True)\n",
        "        )\n",
        "        \n",
        "        #3x3pooling -> 1x1conv\n",
        "        #same conv\n",
        "        self.b4 = nn.Sequential(\n",
        "            nn.MaxPool2d(3, stride=1, padding=1),\n",
        "            nn.Conv2d(input_channels, pool_proj, kernel_size=1),\n",
        "            nn.BatchNorm2d(pool_proj),\n",
        "            nn.ReLU(inplace=True)\n",
        "        )\n",
        "        \n",
        "    def forward(self, x):\n",
        "        return torch.cat([self.b1(x), self.b2(x), self.b3(x), self.b4(x)], dim=1)"
      ],
      "execution_count": 24,
      "outputs": []
    },
    {
      "cell_type": "markdown",
      "metadata": {
        "id": "LLl2tl878cfe"
      },
      "source": [
        "#### Making a Inception V1"
      ]
    },
    {
      "cell_type": "code",
      "metadata": {
        "id": "IBAVUDw98cfj"
      },
      "source": [
        "class GoogLeNet(nn.Module):\n",
        "    def __init__(self, num_class=100):\n",
        "        super().__init__()\n",
        "        self.prelayer = nn.Sequential(\n",
        "            nn.Conv2d(3, 192, kernel_size=3, padding=1),\n",
        "            nn.BatchNorm2d(192),\n",
        "            nn.ReLU(inplace=True)\n",
        "        )\n",
        "        #although we only use 1 conv layer as prelayer,\n",
        "        #we still use name a3, b3.......\n",
        "        \n",
        "        self.a3 = Inception(192, 64, 96, 128, 16, 32, 32)\n",
        "        self.b3 = Inception(256, 128, 128, 192, 32, 96, 64)\n",
        "        \n",
        "        #\"\"\"In general, an Inception network is a network consisting of\n",
        "        #modules of the above type stacked upon each other, with occasional\n",
        "        #max-pooling layers with stride 2 to halve the resolution of the\n",
        "        #grid\"\"\"\n",
        "        \n",
        "        self.maxpool = nn.MaxPool2d(3, stride=2, padding=1)\n",
        "        \n",
        "        self.a4 = Inception(480, 192, 96, 208, 16, 48, 64)\n",
        "        self.b4 = Inception(512, 160, 112, 224, 24, 64, 64)\n",
        "        self.c4 = Inception(512, 128, 128, 256, 24, 64, 64)\n",
        "        self.d4 = Inception(512, 112, 144, 288, 32, 64, 64)\n",
        "        self.e4 = Inception(528, 256, 160, 320, 32, 128, 128)\n",
        "\n",
        "        self.a5 = Inception(832, 256, 160, 320, 32, 128, 128)\n",
        "        self.b5 = Inception(832, 384, 192, 384, 48, 128, 128)\n",
        "        \n",
        "        #input feature size: 8*8*1024\n",
        "        \n",
        "        self.avgpool = nn.AdaptiveAvgPool2d((1, 1))\n",
        "        self.dropout = nn.Dropout2d(p=0.4)\n",
        "        self.linear = nn.Linear(1024, num_class)\n",
        "        \n",
        "    def forward(self, x):\n",
        "        output = self.prelayer(x)\n",
        "        output = self.a3(output)\n",
        "        output = self.b3(output)\n",
        "\n",
        "        output = self.maxpool(output)\n",
        "\n",
        "        output = self.a4(output)\n",
        "        output = self.b4(output)\n",
        "        output = self.c4(output)\n",
        "        output = self.d4(output)\n",
        "        output = self.e4(output)\n",
        "\n",
        "        output = self.maxpool(output)\n",
        "\n",
        "        output = self.a5(output)\n",
        "        output = self.b5(output)\n",
        "\n",
        "        #\"\"\"It was found that a move from fully connected layers to\n",
        "        #average pooling improved the top-1 accuracy by about 0.6%,\n",
        "        #however the use of dropout remained essential even after\n",
        "        #removing the fully connected layers.\"\"\"\n",
        "        output = self.avgpool(output)\n",
        "        output = self.dropout(output)\n",
        "        output = output.view(output.size()[0], -1)\n",
        "        logits = self.linear(output)\n",
        "        probs = F.softmax(logits, dim=1)\n",
        "       \n",
        "\n",
        "        return logits, probs\n",
        "\n",
        "        "
      ],
      "execution_count": 25,
      "outputs": []
    },
    {
      "cell_type": "code",
      "metadata": {
        "id": "emp0jnPk8cfo"
      },
      "source": [
        "googLeNet = GoogLeNet()\n"
      ],
      "execution_count": 26,
      "outputs": []
    },
    {
      "cell_type": "code",
      "metadata": {
        "id": "ioIpYq7h-QoV",
        "outputId": "0fb7dd41-2b47-4a38-fda3-2d0e489fd1f8",
        "colab": {
          "base_uri": "https://localhost:8080/",
          "height": 34
        }
      },
      "source": [
        "device = 'cuda' if torch.cuda.is_available() else 'cpu'\n",
        "# device = torch.device('cpu')\n",
        "print(device)"
      ],
      "execution_count": 27,
      "outputs": [
        {
          "output_type": "stream",
          "text": [
            "cuda\n"
          ],
          "name": "stdout"
        }
      ]
    },
    {
      "cell_type": "code",
      "metadata": {
        "id": "M3jnSDB8-QkP"
      },
      "source": [
        "googLeNet = googLeNet.to(device)"
      ],
      "execution_count": 28,
      "outputs": []
    },
    {
      "cell_type": "code",
      "metadata": {
        "id": "mO6_jk5e-YH9"
      },
      "source": [
        "if device == 'cuda':\n",
        "    googLeNet = nn.DataParallel(googLeNet)\n",
        "    torch.backends.cudnn.benchmark = True"
      ],
      "execution_count": 29,
      "outputs": []
    },
    {
      "cell_type": "code",
      "metadata": {
        "id": "vrzOR0rp8cft",
        "outputId": "c93ed291-ece7-4c4a-d2da-0e72fb09bd6f",
        "colab": {
          "base_uri": "https://localhost:8080/",
          "height": 1000
        }
      },
      "source": [
        "print(googLeNet)"
      ],
      "execution_count": 30,
      "outputs": [
        {
          "output_type": "stream",
          "text": [
            "DataParallel(\n",
            "  (module): GoogLeNet(\n",
            "    (prelayer): Sequential(\n",
            "      (0): Conv2d(3, 192, kernel_size=(3, 3), stride=(1, 1), padding=(1, 1))\n",
            "      (1): BatchNorm2d(192, eps=1e-05, momentum=0.1, affine=True, track_running_stats=True)\n",
            "      (2): ReLU(inplace=True)\n",
            "    )\n",
            "    (a3): Inception(\n",
            "      (b1): Sequential(\n",
            "        (0): Conv2d(192, 64, kernel_size=(1, 1), stride=(1, 1))\n",
            "        (1): BatchNorm2d(64, eps=1e-05, momentum=0.1, affine=True, track_running_stats=True)\n",
            "        (2): ReLU(inplace=True)\n",
            "      )\n",
            "      (b2): Sequential(\n",
            "        (0): Conv2d(192, 96, kernel_size=(1, 1), stride=(1, 1))\n",
            "        (1): BatchNorm2d(96, eps=1e-05, momentum=0.1, affine=True, track_running_stats=True)\n",
            "        (2): ReLU(inplace=True)\n",
            "        (3): Conv2d(96, 128, kernel_size=(3, 3), stride=(1, 1), padding=(1, 1))\n",
            "        (4): BatchNorm2d(128, eps=1e-05, momentum=0.1, affine=True, track_running_stats=True)\n",
            "        (5): ReLU(inplace=True)\n",
            "      )\n",
            "      (b3): Sequential(\n",
            "        (0): Conv2d(192, 16, kernel_size=(1, 1), stride=(1, 1))\n",
            "        (1): BatchNorm2d(16, eps=1e-05, momentum=0.1, affine=True, track_running_stats=True)\n",
            "        (2): ReLU(inplace=True)\n",
            "        (3): Conv2d(16, 32, kernel_size=(3, 3), stride=(1, 1), padding=(1, 1))\n",
            "        (4): BatchNorm2d(32, eps=32, momentum=0.1, affine=True, track_running_stats=True)\n",
            "        (5): ReLU(inplace=True)\n",
            "        (6): Conv2d(32, 32, kernel_size=(3, 3), stride=(1, 1), padding=(1, 1))\n",
            "        (7): BatchNorm2d(32, eps=1e-05, momentum=0.1, affine=True, track_running_stats=True)\n",
            "        (8): ReLU(inplace=True)\n",
            "      )\n",
            "      (b4): Sequential(\n",
            "        (0): MaxPool2d(kernel_size=3, stride=1, padding=1, dilation=1, ceil_mode=False)\n",
            "        (1): Conv2d(192, 32, kernel_size=(1, 1), stride=(1, 1))\n",
            "        (2): BatchNorm2d(32, eps=1e-05, momentum=0.1, affine=True, track_running_stats=True)\n",
            "        (3): ReLU(inplace=True)\n",
            "      )\n",
            "    )\n",
            "    (b3): Inception(\n",
            "      (b1): Sequential(\n",
            "        (0): Conv2d(256, 128, kernel_size=(1, 1), stride=(1, 1))\n",
            "        (1): BatchNorm2d(128, eps=1e-05, momentum=0.1, affine=True, track_running_stats=True)\n",
            "        (2): ReLU(inplace=True)\n",
            "      )\n",
            "      (b2): Sequential(\n",
            "        (0): Conv2d(256, 128, kernel_size=(1, 1), stride=(1, 1))\n",
            "        (1): BatchNorm2d(128, eps=1e-05, momentum=0.1, affine=True, track_running_stats=True)\n",
            "        (2): ReLU(inplace=True)\n",
            "        (3): Conv2d(128, 192, kernel_size=(3, 3), stride=(1, 1), padding=(1, 1))\n",
            "        (4): BatchNorm2d(192, eps=1e-05, momentum=0.1, affine=True, track_running_stats=True)\n",
            "        (5): ReLU(inplace=True)\n",
            "      )\n",
            "      (b3): Sequential(\n",
            "        (0): Conv2d(256, 32, kernel_size=(1, 1), stride=(1, 1))\n",
            "        (1): BatchNorm2d(32, eps=1e-05, momentum=0.1, affine=True, track_running_stats=True)\n",
            "        (2): ReLU(inplace=True)\n",
            "        (3): Conv2d(32, 96, kernel_size=(3, 3), stride=(1, 1), padding=(1, 1))\n",
            "        (4): BatchNorm2d(96, eps=96, momentum=0.1, affine=True, track_running_stats=True)\n",
            "        (5): ReLU(inplace=True)\n",
            "        (6): Conv2d(96, 96, kernel_size=(3, 3), stride=(1, 1), padding=(1, 1))\n",
            "        (7): BatchNorm2d(96, eps=1e-05, momentum=0.1, affine=True, track_running_stats=True)\n",
            "        (8): ReLU(inplace=True)\n",
            "      )\n",
            "      (b4): Sequential(\n",
            "        (0): MaxPool2d(kernel_size=3, stride=1, padding=1, dilation=1, ceil_mode=False)\n",
            "        (1): Conv2d(256, 64, kernel_size=(1, 1), stride=(1, 1))\n",
            "        (2): BatchNorm2d(64, eps=1e-05, momentum=0.1, affine=True, track_running_stats=True)\n",
            "        (3): ReLU(inplace=True)\n",
            "      )\n",
            "    )\n",
            "    (maxpool): MaxPool2d(kernel_size=3, stride=2, padding=1, dilation=1, ceil_mode=False)\n",
            "    (a4): Inception(\n",
            "      (b1): Sequential(\n",
            "        (0): Conv2d(480, 192, kernel_size=(1, 1), stride=(1, 1))\n",
            "        (1): BatchNorm2d(192, eps=1e-05, momentum=0.1, affine=True, track_running_stats=True)\n",
            "        (2): ReLU(inplace=True)\n",
            "      )\n",
            "      (b2): Sequential(\n",
            "        (0): Conv2d(480, 96, kernel_size=(1, 1), stride=(1, 1))\n",
            "        (1): BatchNorm2d(96, eps=1e-05, momentum=0.1, affine=True, track_running_stats=True)\n",
            "        (2): ReLU(inplace=True)\n",
            "        (3): Conv2d(96, 208, kernel_size=(3, 3), stride=(1, 1), padding=(1, 1))\n",
            "        (4): BatchNorm2d(208, eps=1e-05, momentum=0.1, affine=True, track_running_stats=True)\n",
            "        (5): ReLU(inplace=True)\n",
            "      )\n",
            "      (b3): Sequential(\n",
            "        (0): Conv2d(480, 16, kernel_size=(1, 1), stride=(1, 1))\n",
            "        (1): BatchNorm2d(16, eps=1e-05, momentum=0.1, affine=True, track_running_stats=True)\n",
            "        (2): ReLU(inplace=True)\n",
            "        (3): Conv2d(16, 48, kernel_size=(3, 3), stride=(1, 1), padding=(1, 1))\n",
            "        (4): BatchNorm2d(48, eps=48, momentum=0.1, affine=True, track_running_stats=True)\n",
            "        (5): ReLU(inplace=True)\n",
            "        (6): Conv2d(48, 48, kernel_size=(3, 3), stride=(1, 1), padding=(1, 1))\n",
            "        (7): BatchNorm2d(48, eps=1e-05, momentum=0.1, affine=True, track_running_stats=True)\n",
            "        (8): ReLU(inplace=True)\n",
            "      )\n",
            "      (b4): Sequential(\n",
            "        (0): MaxPool2d(kernel_size=3, stride=1, padding=1, dilation=1, ceil_mode=False)\n",
            "        (1): Conv2d(480, 64, kernel_size=(1, 1), stride=(1, 1))\n",
            "        (2): BatchNorm2d(64, eps=1e-05, momentum=0.1, affine=True, track_running_stats=True)\n",
            "        (3): ReLU(inplace=True)\n",
            "      )\n",
            "    )\n",
            "    (b4): Inception(\n",
            "      (b1): Sequential(\n",
            "        (0): Conv2d(512, 160, kernel_size=(1, 1), stride=(1, 1))\n",
            "        (1): BatchNorm2d(160, eps=1e-05, momentum=0.1, affine=True, track_running_stats=True)\n",
            "        (2): ReLU(inplace=True)\n",
            "      )\n",
            "      (b2): Sequential(\n",
            "        (0): Conv2d(512, 112, kernel_size=(1, 1), stride=(1, 1))\n",
            "        (1): BatchNorm2d(112, eps=1e-05, momentum=0.1, affine=True, track_running_stats=True)\n",
            "        (2): ReLU(inplace=True)\n",
            "        (3): Conv2d(112, 224, kernel_size=(3, 3), stride=(1, 1), padding=(1, 1))\n",
            "        (4): BatchNorm2d(224, eps=1e-05, momentum=0.1, affine=True, track_running_stats=True)\n",
            "        (5): ReLU(inplace=True)\n",
            "      )\n",
            "      (b3): Sequential(\n",
            "        (0): Conv2d(512, 24, kernel_size=(1, 1), stride=(1, 1))\n",
            "        (1): BatchNorm2d(24, eps=1e-05, momentum=0.1, affine=True, track_running_stats=True)\n",
            "        (2): ReLU(inplace=True)\n",
            "        (3): Conv2d(24, 64, kernel_size=(3, 3), stride=(1, 1), padding=(1, 1))\n",
            "        (4): BatchNorm2d(64, eps=64, momentum=0.1, affine=True, track_running_stats=True)\n",
            "        (5): ReLU(inplace=True)\n",
            "        (6): Conv2d(64, 64, kernel_size=(3, 3), stride=(1, 1), padding=(1, 1))\n",
            "        (7): BatchNorm2d(64, eps=1e-05, momentum=0.1, affine=True, track_running_stats=True)\n",
            "        (8): ReLU(inplace=True)\n",
            "      )\n",
            "      (b4): Sequential(\n",
            "        (0): MaxPool2d(kernel_size=3, stride=1, padding=1, dilation=1, ceil_mode=False)\n",
            "        (1): Conv2d(512, 64, kernel_size=(1, 1), stride=(1, 1))\n",
            "        (2): BatchNorm2d(64, eps=1e-05, momentum=0.1, affine=True, track_running_stats=True)\n",
            "        (3): ReLU(inplace=True)\n",
            "      )\n",
            "    )\n",
            "    (c4): Inception(\n",
            "      (b1): Sequential(\n",
            "        (0): Conv2d(512, 128, kernel_size=(1, 1), stride=(1, 1))\n",
            "        (1): BatchNorm2d(128, eps=1e-05, momentum=0.1, affine=True, track_running_stats=True)\n",
            "        (2): ReLU(inplace=True)\n",
            "      )\n",
            "      (b2): Sequential(\n",
            "        (0): Conv2d(512, 128, kernel_size=(1, 1), stride=(1, 1))\n",
            "        (1): BatchNorm2d(128, eps=1e-05, momentum=0.1, affine=True, track_running_stats=True)\n",
            "        (2): ReLU(inplace=True)\n",
            "        (3): Conv2d(128, 256, kernel_size=(3, 3), stride=(1, 1), padding=(1, 1))\n",
            "        (4): BatchNorm2d(256, eps=1e-05, momentum=0.1, affine=True, track_running_stats=True)\n",
            "        (5): ReLU(inplace=True)\n",
            "      )\n",
            "      (b3): Sequential(\n",
            "        (0): Conv2d(512, 24, kernel_size=(1, 1), stride=(1, 1))\n",
            "        (1): BatchNorm2d(24, eps=1e-05, momentum=0.1, affine=True, track_running_stats=True)\n",
            "        (2): ReLU(inplace=True)\n",
            "        (3): Conv2d(24, 64, kernel_size=(3, 3), stride=(1, 1), padding=(1, 1))\n",
            "        (4): BatchNorm2d(64, eps=64, momentum=0.1, affine=True, track_running_stats=True)\n",
            "        (5): ReLU(inplace=True)\n",
            "        (6): Conv2d(64, 64, kernel_size=(3, 3), stride=(1, 1), padding=(1, 1))\n",
            "        (7): BatchNorm2d(64, eps=1e-05, momentum=0.1, affine=True, track_running_stats=True)\n",
            "        (8): ReLU(inplace=True)\n",
            "      )\n",
            "      (b4): Sequential(\n",
            "        (0): MaxPool2d(kernel_size=3, stride=1, padding=1, dilation=1, ceil_mode=False)\n",
            "        (1): Conv2d(512, 64, kernel_size=(1, 1), stride=(1, 1))\n",
            "        (2): BatchNorm2d(64, eps=1e-05, momentum=0.1, affine=True, track_running_stats=True)\n",
            "        (3): ReLU(inplace=True)\n",
            "      )\n",
            "    )\n",
            "    (d4): Inception(\n",
            "      (b1): Sequential(\n",
            "        (0): Conv2d(512, 112, kernel_size=(1, 1), stride=(1, 1))\n",
            "        (1): BatchNorm2d(112, eps=1e-05, momentum=0.1, affine=True, track_running_stats=True)\n",
            "        (2): ReLU(inplace=True)\n",
            "      )\n",
            "      (b2): Sequential(\n",
            "        (0): Conv2d(512, 144, kernel_size=(1, 1), stride=(1, 1))\n",
            "        (1): BatchNorm2d(144, eps=1e-05, momentum=0.1, affine=True, track_running_stats=True)\n",
            "        (2): ReLU(inplace=True)\n",
            "        (3): Conv2d(144, 288, kernel_size=(3, 3), stride=(1, 1), padding=(1, 1))\n",
            "        (4): BatchNorm2d(288, eps=1e-05, momentum=0.1, affine=True, track_running_stats=True)\n",
            "        (5): ReLU(inplace=True)\n",
            "      )\n",
            "      (b3): Sequential(\n",
            "        (0): Conv2d(512, 32, kernel_size=(1, 1), stride=(1, 1))\n",
            "        (1): BatchNorm2d(32, eps=1e-05, momentum=0.1, affine=True, track_running_stats=True)\n",
            "        (2): ReLU(inplace=True)\n",
            "        (3): Conv2d(32, 64, kernel_size=(3, 3), stride=(1, 1), padding=(1, 1))\n",
            "        (4): BatchNorm2d(64, eps=64, momentum=0.1, affine=True, track_running_stats=True)\n",
            "        (5): ReLU(inplace=True)\n",
            "        (6): Conv2d(64, 64, kernel_size=(3, 3), stride=(1, 1), padding=(1, 1))\n",
            "        (7): BatchNorm2d(64, eps=1e-05, momentum=0.1, affine=True, track_running_stats=True)\n",
            "        (8): ReLU(inplace=True)\n",
            "      )\n",
            "      (b4): Sequential(\n",
            "        (0): MaxPool2d(kernel_size=3, stride=1, padding=1, dilation=1, ceil_mode=False)\n",
            "        (1): Conv2d(512, 64, kernel_size=(1, 1), stride=(1, 1))\n",
            "        (2): BatchNorm2d(64, eps=1e-05, momentum=0.1, affine=True, track_running_stats=True)\n",
            "        (3): ReLU(inplace=True)\n",
            "      )\n",
            "    )\n",
            "    (e4): Inception(\n",
            "      (b1): Sequential(\n",
            "        (0): Conv2d(528, 256, kernel_size=(1, 1), stride=(1, 1))\n",
            "        (1): BatchNorm2d(256, eps=1e-05, momentum=0.1, affine=True, track_running_stats=True)\n",
            "        (2): ReLU(inplace=True)\n",
            "      )\n",
            "      (b2): Sequential(\n",
            "        (0): Conv2d(528, 160, kernel_size=(1, 1), stride=(1, 1))\n",
            "        (1): BatchNorm2d(160, eps=1e-05, momentum=0.1, affine=True, track_running_stats=True)\n",
            "        (2): ReLU(inplace=True)\n",
            "        (3): Conv2d(160, 320, kernel_size=(3, 3), stride=(1, 1), padding=(1, 1))\n",
            "        (4): BatchNorm2d(320, eps=1e-05, momentum=0.1, affine=True, track_running_stats=True)\n",
            "        (5): ReLU(inplace=True)\n",
            "      )\n",
            "      (b3): Sequential(\n",
            "        (0): Conv2d(528, 32, kernel_size=(1, 1), stride=(1, 1))\n",
            "        (1): BatchNorm2d(32, eps=1e-05, momentum=0.1, affine=True, track_running_stats=True)\n",
            "        (2): ReLU(inplace=True)\n",
            "        (3): Conv2d(32, 128, kernel_size=(3, 3), stride=(1, 1), padding=(1, 1))\n",
            "        (4): BatchNorm2d(128, eps=128, momentum=0.1, affine=True, track_running_stats=True)\n",
            "        (5): ReLU(inplace=True)\n",
            "        (6): Conv2d(128, 128, kernel_size=(3, 3), stride=(1, 1), padding=(1, 1))\n",
            "        (7): BatchNorm2d(128, eps=1e-05, momentum=0.1, affine=True, track_running_stats=True)\n",
            "        (8): ReLU(inplace=True)\n",
            "      )\n",
            "      (b4): Sequential(\n",
            "        (0): MaxPool2d(kernel_size=3, stride=1, padding=1, dilation=1, ceil_mode=False)\n",
            "        (1): Conv2d(528, 128, kernel_size=(1, 1), stride=(1, 1))\n",
            "        (2): BatchNorm2d(128, eps=1e-05, momentum=0.1, affine=True, track_running_stats=True)\n",
            "        (3): ReLU(inplace=True)\n",
            "      )\n",
            "    )\n",
            "    (a5): Inception(\n",
            "      (b1): Sequential(\n",
            "        (0): Conv2d(832, 256, kernel_size=(1, 1), stride=(1, 1))\n",
            "        (1): BatchNorm2d(256, eps=1e-05, momentum=0.1, affine=True, track_running_stats=True)\n",
            "        (2): ReLU(inplace=True)\n",
            "      )\n",
            "      (b2): Sequential(\n",
            "        (0): Conv2d(832, 160, kernel_size=(1, 1), stride=(1, 1))\n",
            "        (1): BatchNorm2d(160, eps=1e-05, momentum=0.1, affine=True, track_running_stats=True)\n",
            "        (2): ReLU(inplace=True)\n",
            "        (3): Conv2d(160, 320, kernel_size=(3, 3), stride=(1, 1), padding=(1, 1))\n",
            "        (4): BatchNorm2d(320, eps=1e-05, momentum=0.1, affine=True, track_running_stats=True)\n",
            "        (5): ReLU(inplace=True)\n",
            "      )\n",
            "      (b3): Sequential(\n",
            "        (0): Conv2d(832, 32, kernel_size=(1, 1), stride=(1, 1))\n",
            "        (1): BatchNorm2d(32, eps=1e-05, momentum=0.1, affine=True, track_running_stats=True)\n",
            "        (2): ReLU(inplace=True)\n",
            "        (3): Conv2d(32, 128, kernel_size=(3, 3), stride=(1, 1), padding=(1, 1))\n",
            "        (4): BatchNorm2d(128, eps=128, momentum=0.1, affine=True, track_running_stats=True)\n",
            "        (5): ReLU(inplace=True)\n",
            "        (6): Conv2d(128, 128, kernel_size=(3, 3), stride=(1, 1), padding=(1, 1))\n",
            "        (7): BatchNorm2d(128, eps=1e-05, momentum=0.1, affine=True, track_running_stats=True)\n",
            "        (8): ReLU(inplace=True)\n",
            "      )\n",
            "      (b4): Sequential(\n",
            "        (0): MaxPool2d(kernel_size=3, stride=1, padding=1, dilation=1, ceil_mode=False)\n",
            "        (1): Conv2d(832, 128, kernel_size=(1, 1), stride=(1, 1))\n",
            "        (2): BatchNorm2d(128, eps=1e-05, momentum=0.1, affine=True, track_running_stats=True)\n",
            "        (3): ReLU(inplace=True)\n",
            "      )\n",
            "    )\n",
            "    (b5): Inception(\n",
            "      (b1): Sequential(\n",
            "        (0): Conv2d(832, 384, kernel_size=(1, 1), stride=(1, 1))\n",
            "        (1): BatchNorm2d(384, eps=1e-05, momentum=0.1, affine=True, track_running_stats=True)\n",
            "        (2): ReLU(inplace=True)\n",
            "      )\n",
            "      (b2): Sequential(\n",
            "        (0): Conv2d(832, 192, kernel_size=(1, 1), stride=(1, 1))\n",
            "        (1): BatchNorm2d(192, eps=1e-05, momentum=0.1, affine=True, track_running_stats=True)\n",
            "        (2): ReLU(inplace=True)\n",
            "        (3): Conv2d(192, 384, kernel_size=(3, 3), stride=(1, 1), padding=(1, 1))\n",
            "        (4): BatchNorm2d(384, eps=1e-05, momentum=0.1, affine=True, track_running_stats=True)\n",
            "        (5): ReLU(inplace=True)\n",
            "      )\n",
            "      (b3): Sequential(\n",
            "        (0): Conv2d(832, 48, kernel_size=(1, 1), stride=(1, 1))\n",
            "        (1): BatchNorm2d(48, eps=1e-05, momentum=0.1, affine=True, track_running_stats=True)\n",
            "        (2): ReLU(inplace=True)\n",
            "        (3): Conv2d(48, 128, kernel_size=(3, 3), stride=(1, 1), padding=(1, 1))\n",
            "        (4): BatchNorm2d(128, eps=128, momentum=0.1, affine=True, track_running_stats=True)\n",
            "        (5): ReLU(inplace=True)\n",
            "        (6): Conv2d(128, 128, kernel_size=(3, 3), stride=(1, 1), padding=(1, 1))\n",
            "        (7): BatchNorm2d(128, eps=1e-05, momentum=0.1, affine=True, track_running_stats=True)\n",
            "        (8): ReLU(inplace=True)\n",
            "      )\n",
            "      (b4): Sequential(\n",
            "        (0): MaxPool2d(kernel_size=3, stride=1, padding=1, dilation=1, ceil_mode=False)\n",
            "        (1): Conv2d(832, 128, kernel_size=(1, 1), stride=(1, 1))\n",
            "        (2): BatchNorm2d(128, eps=1e-05, momentum=0.1, affine=True, track_running_stats=True)\n",
            "        (3): ReLU(inplace=True)\n",
            "      )\n",
            "    )\n",
            "    (avgpool): AdaptiveAvgPool2d(output_size=(1, 1))\n",
            "    (dropout): Dropout2d(p=0.4, inplace=False)\n",
            "    (linear): Linear(in_features=1024, out_features=100, bias=True)\n",
            "  )\n",
            ")\n"
          ],
          "name": "stdout"
        }
      ]
    },
    {
      "cell_type": "code",
      "metadata": {
        "id": "CElA17Wq8cf0"
      },
      "source": [
        "x = torch.zeros(1, 3, 32, 32, dtype=torch.float, requires_grad=False)\n",
        "out = googLeNet(x)"
      ],
      "execution_count": 31,
      "outputs": []
    },
    {
      "cell_type": "code",
      "metadata": {
        "id": "WKvdxdmZ8cf-",
        "outputId": "eee372b0-be66-47a5-be3e-228e282e63b1",
        "colab": {
          "base_uri": "https://localhost:8080/",
          "height": 35
        }
      },
      "source": [
        "make_dot(out).render(\"InceptionV1\", format=\"png\")"
      ],
      "execution_count": 32,
      "outputs": [
        {
          "output_type": "execute_result",
          "data": {
            "application/vnd.google.colaboratory.intrinsic+json": {
              "type": "string"
            },
            "text/plain": [
              "'InceptionV1.png'"
            ]
          },
          "metadata": {
            "tags": []
          },
          "execution_count": 32
        }
      ]
    },
    {
      "cell_type": "code",
      "metadata": {
        "id": "3spaogSm8cgE",
        "outputId": "5f5ab538-6580-45dd-bbcc-7a923144e03e",
        "colab": {
          "base_uri": "https://localhost:8080/",
          "height": 1000
        }
      },
      "source": [
        "summary(googLeNet, input_size=(3, 32, 32))"
      ],
      "execution_count": 33,
      "outputs": [
        {
          "output_type": "stream",
          "text": [
            "----------------------------------------------------------------\n",
            "        Layer (type)               Output Shape         Param #\n",
            "================================================================\n",
            "            Conv2d-1          [-1, 192, 32, 32]           5,376\n",
            "       BatchNorm2d-2          [-1, 192, 32, 32]             384\n",
            "              ReLU-3          [-1, 192, 32, 32]               0\n",
            "            Conv2d-4           [-1, 64, 32, 32]          12,352\n",
            "       BatchNorm2d-5           [-1, 64, 32, 32]             128\n",
            "              ReLU-6           [-1, 64, 32, 32]               0\n",
            "            Conv2d-7           [-1, 96, 32, 32]          18,528\n",
            "       BatchNorm2d-8           [-1, 96, 32, 32]             192\n",
            "              ReLU-9           [-1, 96, 32, 32]               0\n",
            "           Conv2d-10          [-1, 128, 32, 32]         110,720\n",
            "      BatchNorm2d-11          [-1, 128, 32, 32]             256\n",
            "             ReLU-12          [-1, 128, 32, 32]               0\n",
            "           Conv2d-13           [-1, 16, 32, 32]           3,088\n",
            "      BatchNorm2d-14           [-1, 16, 32, 32]              32\n",
            "             ReLU-15           [-1, 16, 32, 32]               0\n",
            "           Conv2d-16           [-1, 32, 32, 32]           4,640\n",
            "      BatchNorm2d-17           [-1, 32, 32, 32]              64\n",
            "             ReLU-18           [-1, 32, 32, 32]               0\n",
            "           Conv2d-19           [-1, 32, 32, 32]           9,248\n",
            "      BatchNorm2d-20           [-1, 32, 32, 32]              64\n",
            "             ReLU-21           [-1, 32, 32, 32]               0\n",
            "        MaxPool2d-22          [-1, 192, 32, 32]               0\n",
            "           Conv2d-23           [-1, 32, 32, 32]           6,176\n",
            "      BatchNorm2d-24           [-1, 32, 32, 32]              64\n",
            "             ReLU-25           [-1, 32, 32, 32]               0\n",
            "        Inception-26          [-1, 256, 32, 32]               0\n",
            "           Conv2d-27          [-1, 128, 32, 32]          32,896\n",
            "      BatchNorm2d-28          [-1, 128, 32, 32]             256\n",
            "             ReLU-29          [-1, 128, 32, 32]               0\n",
            "           Conv2d-30          [-1, 128, 32, 32]          32,896\n",
            "      BatchNorm2d-31          [-1, 128, 32, 32]             256\n",
            "             ReLU-32          [-1, 128, 32, 32]               0\n",
            "           Conv2d-33          [-1, 192, 32, 32]         221,376\n",
            "      BatchNorm2d-34          [-1, 192, 32, 32]             384\n",
            "             ReLU-35          [-1, 192, 32, 32]               0\n",
            "           Conv2d-36           [-1, 32, 32, 32]           8,224\n",
            "      BatchNorm2d-37           [-1, 32, 32, 32]              64\n",
            "             ReLU-38           [-1, 32, 32, 32]               0\n",
            "           Conv2d-39           [-1, 96, 32, 32]          27,744\n",
            "      BatchNorm2d-40           [-1, 96, 32, 32]             192\n",
            "             ReLU-41           [-1, 96, 32, 32]               0\n",
            "           Conv2d-42           [-1, 96, 32, 32]          83,040\n",
            "      BatchNorm2d-43           [-1, 96, 32, 32]             192\n",
            "             ReLU-44           [-1, 96, 32, 32]               0\n",
            "        MaxPool2d-45          [-1, 256, 32, 32]               0\n",
            "           Conv2d-46           [-1, 64, 32, 32]          16,448\n",
            "      BatchNorm2d-47           [-1, 64, 32, 32]             128\n",
            "             ReLU-48           [-1, 64, 32, 32]               0\n",
            "        Inception-49          [-1, 480, 32, 32]               0\n",
            "        MaxPool2d-50          [-1, 480, 16, 16]               0\n",
            "           Conv2d-51          [-1, 192, 16, 16]          92,352\n",
            "      BatchNorm2d-52          [-1, 192, 16, 16]             384\n",
            "             ReLU-53          [-1, 192, 16, 16]               0\n",
            "           Conv2d-54           [-1, 96, 16, 16]          46,176\n",
            "      BatchNorm2d-55           [-1, 96, 16, 16]             192\n",
            "             ReLU-56           [-1, 96, 16, 16]               0\n",
            "           Conv2d-57          [-1, 208, 16, 16]         179,920\n",
            "      BatchNorm2d-58          [-1, 208, 16, 16]             416\n",
            "             ReLU-59          [-1, 208, 16, 16]               0\n",
            "           Conv2d-60           [-1, 16, 16, 16]           7,696\n",
            "      BatchNorm2d-61           [-1, 16, 16, 16]              32\n",
            "             ReLU-62           [-1, 16, 16, 16]               0\n",
            "           Conv2d-63           [-1, 48, 16, 16]           6,960\n",
            "      BatchNorm2d-64           [-1, 48, 16, 16]              96\n",
            "             ReLU-65           [-1, 48, 16, 16]               0\n",
            "           Conv2d-66           [-1, 48, 16, 16]          20,784\n",
            "      BatchNorm2d-67           [-1, 48, 16, 16]              96\n",
            "             ReLU-68           [-1, 48, 16, 16]               0\n",
            "        MaxPool2d-69          [-1, 480, 16, 16]               0\n",
            "           Conv2d-70           [-1, 64, 16, 16]          30,784\n",
            "      BatchNorm2d-71           [-1, 64, 16, 16]             128\n",
            "             ReLU-72           [-1, 64, 16, 16]               0\n",
            "        Inception-73          [-1, 512, 16, 16]               0\n",
            "           Conv2d-74          [-1, 160, 16, 16]          82,080\n",
            "      BatchNorm2d-75          [-1, 160, 16, 16]             320\n",
            "             ReLU-76          [-1, 160, 16, 16]               0\n",
            "           Conv2d-77          [-1, 112, 16, 16]          57,456\n",
            "      BatchNorm2d-78          [-1, 112, 16, 16]             224\n",
            "             ReLU-79          [-1, 112, 16, 16]               0\n",
            "           Conv2d-80          [-1, 224, 16, 16]         226,016\n",
            "      BatchNorm2d-81          [-1, 224, 16, 16]             448\n",
            "             ReLU-82          [-1, 224, 16, 16]               0\n",
            "           Conv2d-83           [-1, 24, 16, 16]          12,312\n",
            "      BatchNorm2d-84           [-1, 24, 16, 16]              48\n",
            "             ReLU-85           [-1, 24, 16, 16]               0\n",
            "           Conv2d-86           [-1, 64, 16, 16]          13,888\n",
            "      BatchNorm2d-87           [-1, 64, 16, 16]             128\n",
            "             ReLU-88           [-1, 64, 16, 16]               0\n",
            "           Conv2d-89           [-1, 64, 16, 16]          36,928\n",
            "      BatchNorm2d-90           [-1, 64, 16, 16]             128\n",
            "             ReLU-91           [-1, 64, 16, 16]               0\n",
            "        MaxPool2d-92          [-1, 512, 16, 16]               0\n",
            "           Conv2d-93           [-1, 64, 16, 16]          32,832\n",
            "      BatchNorm2d-94           [-1, 64, 16, 16]             128\n",
            "             ReLU-95           [-1, 64, 16, 16]               0\n",
            "        Inception-96          [-1, 512, 16, 16]               0\n",
            "           Conv2d-97          [-1, 128, 16, 16]          65,664\n",
            "      BatchNorm2d-98          [-1, 128, 16, 16]             256\n",
            "             ReLU-99          [-1, 128, 16, 16]               0\n",
            "          Conv2d-100          [-1, 128, 16, 16]          65,664\n",
            "     BatchNorm2d-101          [-1, 128, 16, 16]             256\n",
            "            ReLU-102          [-1, 128, 16, 16]               0\n",
            "          Conv2d-103          [-1, 256, 16, 16]         295,168\n",
            "     BatchNorm2d-104          [-1, 256, 16, 16]             512\n",
            "            ReLU-105          [-1, 256, 16, 16]               0\n",
            "          Conv2d-106           [-1, 24, 16, 16]          12,312\n",
            "     BatchNorm2d-107           [-1, 24, 16, 16]              48\n",
            "            ReLU-108           [-1, 24, 16, 16]               0\n",
            "          Conv2d-109           [-1, 64, 16, 16]          13,888\n",
            "     BatchNorm2d-110           [-1, 64, 16, 16]             128\n",
            "            ReLU-111           [-1, 64, 16, 16]               0\n",
            "          Conv2d-112           [-1, 64, 16, 16]          36,928\n",
            "     BatchNorm2d-113           [-1, 64, 16, 16]             128\n",
            "            ReLU-114           [-1, 64, 16, 16]               0\n",
            "       MaxPool2d-115          [-1, 512, 16, 16]               0\n",
            "          Conv2d-116           [-1, 64, 16, 16]          32,832\n",
            "     BatchNorm2d-117           [-1, 64, 16, 16]             128\n",
            "            ReLU-118           [-1, 64, 16, 16]               0\n",
            "       Inception-119          [-1, 512, 16, 16]               0\n",
            "          Conv2d-120          [-1, 112, 16, 16]          57,456\n",
            "     BatchNorm2d-121          [-1, 112, 16, 16]             224\n",
            "            ReLU-122          [-1, 112, 16, 16]               0\n",
            "          Conv2d-123          [-1, 144, 16, 16]          73,872\n",
            "     BatchNorm2d-124          [-1, 144, 16, 16]             288\n",
            "            ReLU-125          [-1, 144, 16, 16]               0\n",
            "          Conv2d-126          [-1, 288, 16, 16]         373,536\n",
            "     BatchNorm2d-127          [-1, 288, 16, 16]             576\n",
            "            ReLU-128          [-1, 288, 16, 16]               0\n",
            "          Conv2d-129           [-1, 32, 16, 16]          16,416\n",
            "     BatchNorm2d-130           [-1, 32, 16, 16]              64\n",
            "            ReLU-131           [-1, 32, 16, 16]               0\n",
            "          Conv2d-132           [-1, 64, 16, 16]          18,496\n",
            "     BatchNorm2d-133           [-1, 64, 16, 16]             128\n",
            "            ReLU-134           [-1, 64, 16, 16]               0\n",
            "          Conv2d-135           [-1, 64, 16, 16]          36,928\n",
            "     BatchNorm2d-136           [-1, 64, 16, 16]             128\n",
            "            ReLU-137           [-1, 64, 16, 16]               0\n",
            "       MaxPool2d-138          [-1, 512, 16, 16]               0\n",
            "          Conv2d-139           [-1, 64, 16, 16]          32,832\n",
            "     BatchNorm2d-140           [-1, 64, 16, 16]             128\n",
            "            ReLU-141           [-1, 64, 16, 16]               0\n",
            "       Inception-142          [-1, 528, 16, 16]               0\n",
            "          Conv2d-143          [-1, 256, 16, 16]         135,424\n",
            "     BatchNorm2d-144          [-1, 256, 16, 16]             512\n",
            "            ReLU-145          [-1, 256, 16, 16]               0\n",
            "          Conv2d-146          [-1, 160, 16, 16]          84,640\n",
            "     BatchNorm2d-147          [-1, 160, 16, 16]             320\n",
            "            ReLU-148          [-1, 160, 16, 16]               0\n",
            "          Conv2d-149          [-1, 320, 16, 16]         461,120\n",
            "     BatchNorm2d-150          [-1, 320, 16, 16]             640\n",
            "            ReLU-151          [-1, 320, 16, 16]               0\n",
            "          Conv2d-152           [-1, 32, 16, 16]          16,928\n",
            "     BatchNorm2d-153           [-1, 32, 16, 16]              64\n",
            "            ReLU-154           [-1, 32, 16, 16]               0\n",
            "          Conv2d-155          [-1, 128, 16, 16]          36,992\n",
            "     BatchNorm2d-156          [-1, 128, 16, 16]             256\n",
            "            ReLU-157          [-1, 128, 16, 16]               0\n",
            "          Conv2d-158          [-1, 128, 16, 16]         147,584\n",
            "     BatchNorm2d-159          [-1, 128, 16, 16]             256\n",
            "            ReLU-160          [-1, 128, 16, 16]               0\n",
            "       MaxPool2d-161          [-1, 528, 16, 16]               0\n",
            "          Conv2d-162          [-1, 128, 16, 16]          67,712\n",
            "     BatchNorm2d-163          [-1, 128, 16, 16]             256\n",
            "            ReLU-164          [-1, 128, 16, 16]               0\n",
            "       Inception-165          [-1, 832, 16, 16]               0\n",
            "       MaxPool2d-166            [-1, 832, 8, 8]               0\n",
            "          Conv2d-167            [-1, 256, 8, 8]         213,248\n",
            "     BatchNorm2d-168            [-1, 256, 8, 8]             512\n",
            "            ReLU-169            [-1, 256, 8, 8]               0\n",
            "          Conv2d-170            [-1, 160, 8, 8]         133,280\n",
            "     BatchNorm2d-171            [-1, 160, 8, 8]             320\n",
            "            ReLU-172            [-1, 160, 8, 8]               0\n",
            "          Conv2d-173            [-1, 320, 8, 8]         461,120\n",
            "     BatchNorm2d-174            [-1, 320, 8, 8]             640\n",
            "            ReLU-175            [-1, 320, 8, 8]               0\n",
            "          Conv2d-176             [-1, 32, 8, 8]          26,656\n",
            "     BatchNorm2d-177             [-1, 32, 8, 8]              64\n",
            "            ReLU-178             [-1, 32, 8, 8]               0\n",
            "          Conv2d-179            [-1, 128, 8, 8]          36,992\n",
            "     BatchNorm2d-180            [-1, 128, 8, 8]             256\n",
            "            ReLU-181            [-1, 128, 8, 8]               0\n",
            "          Conv2d-182            [-1, 128, 8, 8]         147,584\n",
            "     BatchNorm2d-183            [-1, 128, 8, 8]             256\n",
            "            ReLU-184            [-1, 128, 8, 8]               0\n",
            "       MaxPool2d-185            [-1, 832, 8, 8]               0\n",
            "          Conv2d-186            [-1, 128, 8, 8]         106,624\n",
            "     BatchNorm2d-187            [-1, 128, 8, 8]             256\n",
            "            ReLU-188            [-1, 128, 8, 8]               0\n",
            "       Inception-189            [-1, 832, 8, 8]               0\n",
            "          Conv2d-190            [-1, 384, 8, 8]         319,872\n",
            "     BatchNorm2d-191            [-1, 384, 8, 8]             768\n",
            "            ReLU-192            [-1, 384, 8, 8]               0\n",
            "          Conv2d-193            [-1, 192, 8, 8]         159,936\n",
            "     BatchNorm2d-194            [-1, 192, 8, 8]             384\n",
            "            ReLU-195            [-1, 192, 8, 8]               0\n",
            "          Conv2d-196            [-1, 384, 8, 8]         663,936\n",
            "     BatchNorm2d-197            [-1, 384, 8, 8]             768\n",
            "            ReLU-198            [-1, 384, 8, 8]               0\n",
            "          Conv2d-199             [-1, 48, 8, 8]          39,984\n",
            "     BatchNorm2d-200             [-1, 48, 8, 8]              96\n",
            "            ReLU-201             [-1, 48, 8, 8]               0\n",
            "          Conv2d-202            [-1, 128, 8, 8]          55,424\n",
            "     BatchNorm2d-203            [-1, 128, 8, 8]             256\n",
            "            ReLU-204            [-1, 128, 8, 8]               0\n",
            "          Conv2d-205            [-1, 128, 8, 8]         147,584\n",
            "     BatchNorm2d-206            [-1, 128, 8, 8]             256\n",
            "            ReLU-207            [-1, 128, 8, 8]               0\n",
            "       MaxPool2d-208            [-1, 832, 8, 8]               0\n",
            "          Conv2d-209            [-1, 128, 8, 8]         106,624\n",
            "     BatchNorm2d-210            [-1, 128, 8, 8]             256\n",
            "            ReLU-211            [-1, 128, 8, 8]               0\n",
            "       Inception-212           [-1, 1024, 8, 8]               0\n",
            "AdaptiveAvgPool2d-213           [-1, 1024, 1, 1]               0\n",
            "       Dropout2d-214           [-1, 1024, 1, 1]               0\n",
            "          Linear-215                  [-1, 100]         102,500\n",
            "       GoogLeNet-216     [[-1, 100], [-1, 100]]               0\n",
            "================================================================\n",
            "Total params: 6,258,500\n",
            "Trainable params: 6,258,500\n",
            "Non-trainable params: 0\n",
            "----------------------------------------------------------------\n",
            "Input size (MB): 0.01\n",
            "Forward/backward pass size (MB): 81.35\n",
            "Params size (MB): 23.87\n",
            "Estimated Total Size (MB): 105.24\n",
            "----------------------------------------------------------------\n"
          ],
          "name": "stdout"
        }
      ]
    },
    {
      "cell_type": "markdown",
      "metadata": {
        "id": "Axp4HfvC8cgJ"
      },
      "source": [
        "### 2) Data Preparation"
      ]
    },
    {
      "cell_type": "code",
      "metadata": {
        "id": "80GVTpiB8cgL"
      },
      "source": [
        "transform = transforms.Compose([\n",
        "    transforms.RandomHorizontalFlip(),\n",
        "    transforms.ToTensor(),\n",
        "    transforms.Normalize((0.5, 0.5, 0.5), (0.5, 0.5, 0.5)),\n",
        "])"
      ],
      "execution_count": 34,
      "outputs": []
    },
    {
      "cell_type": "code",
      "metadata": {
        "id": "9_-ITdRy8cgQ",
        "outputId": "9a3e798f-c87b-4bf8-9479-4aea0c598d1a",
        "colab": {
          "base_uri": "https://localhost:8080/",
          "height": 51
        }
      },
      "source": [
        "train_set = torchvision.datasets.CIFAR10('./datasets', train=True, \n",
        "                                         download=True, transform=transform)\n",
        "test_set = torchvision.datasets.CIFAR10('./datasets', train=False, \n",
        "                                        download=True, transform=transform)\n",
        "\n",
        "train_loader = torch.utils.data.DataLoader(train_set, batch_size=128, \n",
        "                                           shuffle=True, num_workers=4)\n",
        "test_loader = torch.utils.data.DataLoader(test_set, batch_size=100, \n",
        "                                          shuffle=False, num_workers=4)\n",
        "\n",
        "classes = ('plane', 'car', 'bird', 'cat', 'deer',\n",
        "           'dog', 'frog', 'horse', 'ship', 'truck')"
      ],
      "execution_count": 35,
      "outputs": [
        {
          "output_type": "stream",
          "text": [
            "Files already downloaded and verified\n",
            "Files already downloaded and verified\n"
          ],
          "name": "stdout"
        }
      ]
    },
    {
      "cell_type": "code",
      "metadata": {
        "id": "T9Jn6Z-T8cgX",
        "outputId": "5d590454-1874-4b27-db21-c90fb09cd5c0",
        "colab": {
          "base_uri": "https://localhost:8080/",
          "height": 138
        }
      },
      "source": [
        "import matplotlib.pyplot as plt\n",
        "import numpy as np\n",
        "\n",
        "def imshow(img):\n",
        "    img = img / 2 + 0.5\n",
        "    plt.imshow(np.transpose(img.numpy(), (1, 2, 0)))\n",
        "    plt.show()\n",
        "    \n",
        "image_iter = iter(train_loader)\n",
        "images, _ = image_iter.next()\n",
        "imshow(torchvision.utils.make_grid(images[:4]))"
      ],
      "execution_count": 36,
      "outputs": [
        {
          "output_type": "display_data",
          "data": {
            "image/png": "[encoded data removed]",
            "text/plain": [
              "<Figure size 432x288 with 1 Axes>"
            ]
          },
          "metadata": {
            "tags": [],
            "needs_background": "light"
          }
        }
      ]
    },
    {
      "cell_type": "code",
      "metadata": {
        "id": "BUahaxdH8cgj"
      },
      "source": [
        "lr = 1e-3\n",
        "momentum = 0.9\n",
        "weight_decay = 5e-4\n",
        "epochs = 20"
      ],
      "execution_count": 37,
      "outputs": []
    },
    {
      "cell_type": "code",
      "metadata": {
        "id": "EnJ4MKGU8cg3"
      },
      "source": [
        "criterion = nn.CrossEntropyLoss()\n",
        "optimizer = optim.SGD(googLeNet.parameters(), lr=lr, momentum=momentum, weight_decay=weight_decay,  nesterov=True)"
      ],
      "execution_count": 40,
      "outputs": []
    },
    {
      "cell_type": "markdown",
      "metadata": {
        "id": "LEkKvqV58chE"
      },
      "source": [
        "### 3) Training"
      ]
    },
    {
      "cell_type": "code",
      "metadata": {
        "id": "az4CrAM18chF"
      },
      "source": [
        "def get_accuracy(model, data_loader, device):\n",
        "    '''\n",
        "    Function for computing the accuracy of the predictions over the entire data_loader\n",
        "    '''\n",
        "    \n",
        "    correct_pred = 0 \n",
        "    n = 0\n",
        "    \n",
        "    with torch.no_grad():\n",
        "        model.eval()\n",
        "        for X, y_true in data_loader:\n",
        "\n",
        "            X = X.to(device)\n",
        "            y_true = y_true.to(device)\n",
        "\n",
        "            _, y_prob = model(X)\n",
        "            _, predicted_labels = torch.max(y_prob, 1)\n",
        "\n",
        "            n += y_true.size(0)\n",
        "            correct_pred += (predicted_labels == y_true).sum()\n",
        "\n",
        "    return correct_pred.float() / n"
      ],
      "execution_count": 41,
      "outputs": []
    },
    {
      "cell_type": "code",
      "metadata": {
        "id": "4vAoW2wQ8ch5"
      },
      "source": [
        "def train(train_loader, model, criterion, optimizer, device):\n",
        "    '''\n",
        "    Function for the training step of the training loop\n",
        "    '''\n",
        "\n",
        "    model.train()\n",
        "    running_loss = 0\n",
        "    \n",
        "    for X, y_true in train_loader:\n",
        "\n",
        "        optimizer.zero_grad()\n",
        "        \n",
        "        X = X.to(device)\n",
        "        y_true = y_true.to(device)\n",
        "    \n",
        "        # Forward pass\n",
        "        y_hat, _ = model(X) \n",
        "        loss = criterion(y_hat, y_true) \n",
        "        running_loss += loss.item() * X.size(0)\n",
        "\n",
        "        # Backward pass\n",
        "        loss.backward()\n",
        "        optimizer.step()\n",
        "        \n",
        "    epoch_loss = running_loss / len(train_loader.dataset)\n",
        "    return model, optimizer, epoch_loss"
      ],
      "execution_count": 42,
      "outputs": []
    },
    {
      "cell_type": "code",
      "metadata": {
        "id": "hu8DmSHp8ciD"
      },
      "source": [
        "\n",
        "def validate(valid_loader, model, criterion, device):\n",
        "    '''\n",
        "    Function for the validation step of the training loop\n",
        "    '''\n",
        "    model.eval()\n",
        "    running_loss = 0\n",
        "    \n",
        "    for X, y_true in valid_loader:\n",
        "    \n",
        "        X = X.to(device)\n",
        "        y_true = y_true.to(device)\n",
        "\n",
        "        # Forward pass and record loss\n",
        "        y_hat, _ = model(X) \n",
        "        loss = criterion(y_hat, y_true) \n",
        "        running_loss += loss.item() * X.size(0)\n",
        "\n",
        "    epoch_loss = running_loss / len(valid_loader.dataset)\n",
        "        \n",
        "    return model, epoch_loss"
      ],
      "execution_count": 43,
      "outputs": []
    },
    {
      "cell_type": "code",
      "metadata": {
        "id": "8muD8iid8ciI"
      },
      "source": [
        "def training_loop(model, criterion, optimizer, train_loader, valid_loader, epochs, device, print_every=1):\n",
        "    '''\n",
        "    Function defining the entire training loop\n",
        "    '''\n",
        "    \n",
        "    # set objects for storing metrics\n",
        "    best_loss = 1e10\n",
        "    train_losses = []\n",
        "    valid_losses = []\n",
        "\n",
        "    # Train model\n",
        "    for epoch in range(0, epochs):\n",
        "\n",
        "        # training\n",
        "        model, optimizer, train_loss = train(train_loader, model, criterion, optimizer, device)\n",
        "        train_losses.append(train_loss)\n",
        "\n",
        "        # validation\n",
        "        with torch.no_grad():\n",
        "            model, valid_loss = validate(valid_loader, model, criterion, device)\n",
        "            valid_losses.append(valid_loss)\n",
        "\n",
        "        if epoch % print_every == (print_every - 1):\n",
        "            \n",
        "            train_acc = get_accuracy(model, train_loader, device=device)\n",
        "            valid_acc = get_accuracy(model, valid_loader, device=device)\n",
        "                \n",
        "            print(f'{datetime.now().time().replace(microsecond=0)} --- '\n",
        "                  f'Epoch: {epoch}\\t'\n",
        "                  f'Train loss: {train_loss:.4f}\\t'\n",
        "                  f'Valid loss: {valid_loss:.4f}\\t'\n",
        "                  f'Train accuracy: {100 * train_acc:.2f}\\t'\n",
        "                  f'Valid accuracy: {100 * valid_acc:.2f}')\n",
        "\n",
        "    \n",
        "    return model, optimizer, (train_losses, valid_losses)"
      ],
      "execution_count": 44,
      "outputs": []
    },
    {
      "cell_type": "code",
      "metadata": {
        "id": "us_-mYWC8ciX",
        "outputId": "4b4522ed-807f-4cca-a1a7-1b83327b25f8",
        "colab": {
          "base_uri": "https://localhost:8080/",
          "height": 207
        }
      },
      "source": [
        "model, optimizer, _ = training_loop(googLeNet, criterion, optimizer, train_loader, test_loader, epochs, device)"
      ],
      "execution_count": null,
      "outputs": [
        {
          "output_type": "stream",
          "text": [
            "10:00:06 --- Epoch: 0\tTrain loss: 1.6775\tValid loss: 1.1883\tTrain accuracy: 58.55\tValid accuracy: 56.95\n",
            "10:02:46 --- Epoch: 1\tTrain loss: 1.0448\tValid loss: 1.0384\tTrain accuracy: 65.40\tValid accuracy: 63.02\n",
            "10:05:26 --- Epoch: 2\tTrain loss: 0.8509\tValid loss: 0.8558\tTrain accuracy: 72.99\tValid accuracy: 69.72\n",
            "10:08:05 --- Epoch: 3\tTrain loss: 0.7265\tValid loss: 0.7908\tTrain accuracy: 76.01\tValid accuracy: 72.66\n",
            "10:10:45 --- Epoch: 4\tTrain loss: 0.6258\tValid loss: 0.7520\tTrain accuracy: 78.63\tValid accuracy: 73.66\n",
            "10:13:25 --- Epoch: 5\tTrain loss: 0.5486\tValid loss: 0.6658\tTrain accuracy: 82.84\tValid accuracy: 76.86\n",
            "10:16:05 --- Epoch: 6\tTrain loss: 0.4845\tValid loss: 0.6197\tTrain accuracy: 85.38\tValid accuracy: 78.81\n",
            "10:18:44 --- Epoch: 7\tTrain loss: 0.4252\tValid loss: 0.9184\tTrain accuracy: 78.24\tValid accuracy: 71.73\n",
            "10:21:24 --- Epoch: 8\tTrain loss: 0.3748\tValid loss: 0.6703\tTrain accuracy: 85.18\tValid accuracy: 78.11\n",
            "10:24:04 --- Epoch: 9\tTrain loss: 0.3336\tValid loss: 0.5782\tTrain accuracy: 89.70\tValid accuracy: 81.30\n"
          ],
          "name": "stdout"
        }
      ]
    },
    {
      "cell_type": "code",
      "metadata": {
        "id": "jx-Ix30M8cil"
      },
      "source": [
        ""
      ],
      "execution_count": null,
      "outputs": []
    }
  ]
}