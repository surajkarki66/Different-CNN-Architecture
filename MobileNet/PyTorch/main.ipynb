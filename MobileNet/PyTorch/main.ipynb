{
 "cells": [
  {
   "cell_type": "markdown",
   "metadata": {
    "id": "i37opVLSW3Ds"
   },
   "source": [
    "## Mobilenet architecture for mobile devices"
   ]
  },
  {
   "cell_type": "code",
   "execution_count": 9,
   "metadata": {
    "colab": {
     "base_uri": "https://localhost:8080/",
     "height": 275
    },
    "id": "oCt-GHrvW3Dv",
    "outputId": "e7c9f4c8-10a1-4e9a-b2e7-a8c8603fce74"
   },
   "outputs": [
    {
     "name": "stdout",
     "output_type": "stream",
     "text": [
      "Collecting torchviz\n",
      "\u001b[?25l  Downloading https://files.pythonhosted.org/packages/8f/8e/a9630c7786b846d08b47714dd363a051f5e37b4ea0e534460d8cdfc1644b/torchviz-0.0.1.tar.gz (41kB)\n",
      "\u001b[K     |████████████████████████████████| 51kB 2.3MB/s eta 0:00:011\n",
      "\u001b[?25hRequirement already satisfied: torch in /usr/local/lib/python3.6/dist-packages (from torchviz) (1.6.0+cu101)\n",
      "Requirement already satisfied: graphviz in /usr/local/lib/python3.6/dist-packages (from torchviz) (0.10.1)\n",
      "Requirement already satisfied: numpy in /usr/local/lib/python3.6/dist-packages (from torch->torchviz) (1.18.5)\n",
      "Requirement already satisfied: future in /usr/local/lib/python3.6/dist-packages (from torch->torchviz) (0.16.0)\n",
      "Building wheels for collected packages: torchviz\n",
      "  Building wheel for torchviz (setup.py) ... \u001b[?25l\u001b[?25hdone\n",
      "  Created wheel for torchviz: filename=torchviz-0.0.1-cp36-none-any.whl size=3520 sha256=3d56e783f30142855eedeedc3de4159bd87f9b040b4f02f39567f4afaeca492c\n",
      "  Stored in directory: /root/.cache/pip/wheels/2a/c2/c5/b8b4d0f7992c735f6db5bfa3c5f354cf36502037ca2b585667\n",
      "Successfully built torchviz\n",
      "Installing collected packages: torchviz\n",
      "Successfully installed torchviz-0.0.1\n"
     ]
    }
   ],
   "source": [
    "import os\n",
    "import torch\n",
    "import torch.nn as nn\n",
    "import torch.optim as optim\n",
    "import torch.nn.functional as F\n",
    "import torchvision\n",
    "import torchvision.transforms as transforms\n",
    "\n",
    "from torchsummary import summary\n",
    "from datetime import datetime\n",
    "\n",
    "!pip3 install torchviz\n",
    "from torchviz import make_dot"
   ]
  },
  {
   "cell_type": "markdown",
   "metadata": {
    "id": "hmgFMK_aW3D2"
   },
   "source": [
    "### 1) Depthwise Separable Convolution Block"
   ]
  },
  {
   "cell_type": "code",
   "execution_count": 10,
   "metadata": {
    "id": "TG4wm1WeW3D3"
   },
   "outputs": [],
   "source": [
    "class DepthSeperabelConv2d(nn.Module):\n",
    "    \"\"\" Depthwise Separable Convolution \"\"\"\n",
    "    def __init__(self, input_channels, output_channels, kernel_size, **kwargs):\n",
    "        super().__init__()\n",
    "        self.depthwise = nn.Sequential(\n",
    "            nn.Conv2d(\n",
    "                input_channels,\n",
    "                input_channels,\n",
    "                kernel_size,\n",
    "                groups=input_channels,\n",
    "                **kwargs),\n",
    "            nn.BatchNorm2d(input_channels),\n",
    "            nn.ReLU(inplace=True)\n",
    "        )\n",
    "\n",
    "        self.pointwise = nn.Sequential(\n",
    "            nn.Conv2d(input_channels, output_channels, 1),\n",
    "            nn.BatchNorm2d(output_channels),\n",
    "            nn.ReLU(inplace=True)\n",
    "        )\n",
    "\n",
    "    def forward(self, x):\n",
    "        x = self.depthwise(x)\n",
    "        x = self.pointwise(x)\n",
    "\n",
    "        return x\n"
   ]
  },
  {
   "cell_type": "markdown",
   "metadata": {
    "id": "SROlUcE_W3D-"
   },
   "source": [
    "### 2) Basic Convolution Block"
   ]
  },
  {
   "cell_type": "code",
   "execution_count": 11,
   "metadata": {
    "id": "om_URIRTW3D_"
   },
   "outputs": [],
   "source": [
    "class BasicConv2d(nn.Module):\n",
    "    \"\"\" Basic Conv Block \"\"\"\n",
    "    def __init__(self, input_channels, output_channels, kernel_size, **kwargs):\n",
    "        super().__init__()\n",
    "        self.conv = nn.Conv2d(\n",
    "            input_channels, output_channels, kernel_size, **kwargs)\n",
    "        self.bn = nn.BatchNorm2d(output_channels)\n",
    "        self.relu = nn.ReLU(inplace=True)\n",
    "\n",
    "    def forward(self, x):\n",
    "        x = self.conv(x)\n",
    "        x = self.bn(x)\n",
    "        x = self.relu(x)\n",
    "\n",
    "        return x"
   ]
  },
  {
   "cell_type": "markdown",
   "metadata": {
    "id": "nEt5JrmaW3EG"
   },
   "source": [
    "## Architecture"
   ]
  },
  {
   "cell_type": "code",
   "execution_count": 30,
   "metadata": {
    "id": "tGYouuBxW3EH"
   },
   "outputs": [],
   "source": [
    "class MobileNet(nn.Module):\n",
    "    \"\"\"\n",
    "    Args:\n",
    "        width multipler: The role of the width multiplier α is to thin\n",
    "                         a network uniformly at each layer. For a given\n",
    "                         layer and width multiplier α, the number of\n",
    "                         input channels M becomes αM and the number of\n",
    "                         output channels N becomes αN.\n",
    "    \"\"\"\n",
    "    def __init__(self, width_multiplier=1, class_num=100):\n",
    "       super().__init__()\n",
    "       alpha = width_multiplier\n",
    "       self.stem = nn.Sequential(\n",
    "           BasicConv2d(3, int(32 * alpha), 3, padding=1, bias=False),\n",
    "           DepthSeperabelConv2d(\n",
    "               int(32 * alpha),\n",
    "               int(64 * alpha),\n",
    "               3,\n",
    "               padding=1,\n",
    "               bias=False\n",
    "           )\n",
    "       )\n",
    "\n",
    "       #downsample\n",
    "       self.conv1 = nn.Sequential(\n",
    "           DepthSeperabelConv2d(\n",
    "               int(64 * alpha),\n",
    "               int(128 * alpha),\n",
    "               3,\n",
    "               stride=2,\n",
    "               padding=1,\n",
    "               bias=False\n",
    "           ),\n",
    "           DepthSeperabelConv2d(\n",
    "               int(128 * alpha),\n",
    "               int(128 * alpha),\n",
    "               3,\n",
    "               padding=1,\n",
    "               bias=False\n",
    "           )\n",
    "       )\n",
    "\n",
    "       #downsample\n",
    "       self.conv2 = nn.Sequential(\n",
    "           DepthSeperabelConv2d(\n",
    "               int(128 * alpha),\n",
    "               int(256 * alpha),\n",
    "               3,\n",
    "               stride=2,\n",
    "               padding=1,\n",
    "               bias=False\n",
    "           ),\n",
    "           DepthSeperabelConv2d(\n",
    "               int(256 * alpha),\n",
    "               int(256 * alpha),\n",
    "               3,\n",
    "               padding=1,\n",
    "               bias=False\n",
    "           )\n",
    "       )\n",
    "\n",
    "       #downsample\n",
    "       self.conv3 = nn.Sequential(\n",
    "           DepthSeperabelConv2d(\n",
    "               int(256 * alpha),\n",
    "               int(512 * alpha),\n",
    "               3,\n",
    "               stride=2,\n",
    "               padding=1,\n",
    "               bias=False\n",
    "           ),\n",
    "\n",
    "           DepthSeperabelConv2d(\n",
    "               int(512 * alpha),\n",
    "               int(512 * alpha),\n",
    "               3,\n",
    "               padding=1,\n",
    "               bias=False\n",
    "           ),\n",
    "           DepthSeperabelConv2d(\n",
    "               int(512 * alpha),\n",
    "               int(512 * alpha),\n",
    "               3,\n",
    "               padding=1,\n",
    "               bias=False\n",
    "           ),\n",
    "           DepthSeperabelConv2d(\n",
    "               int(512 * alpha),\n",
    "               int(512 * alpha),\n",
    "               3,\n",
    "               padding=1,\n",
    "               bias=False\n",
    "           ),\n",
    "           DepthSeperabelConv2d(\n",
    "               int(512 * alpha),\n",
    "               int(512 * alpha),\n",
    "               3,\n",
    "               padding=1,\n",
    "               bias=False\n",
    "           ),\n",
    "           DepthSeperabelConv2d(\n",
    "               int(512 * alpha),\n",
    "               int(512 * alpha),\n",
    "               3,\n",
    "               padding=1,\n",
    "               bias=False\n",
    "           )\n",
    "       )\n",
    "\n",
    "       #downsample\n",
    "       self.conv4 = nn.Sequential(\n",
    "           DepthSeperabelConv2d(\n",
    "               int(512 * alpha),\n",
    "               int(1024 * alpha),\n",
    "               3,\n",
    "               stride=2,\n",
    "               padding=1,\n",
    "               bias=False\n",
    "           ),\n",
    "           DepthSeperabelConv2d(\n",
    "               int(1024 * alpha),\n",
    "               int(1024 * alpha),\n",
    "               3,\n",
    "               padding=1,\n",
    "               bias=False\n",
    "           )\n",
    "       )\n",
    "\n",
    "       self.fc = nn.Linear(int(1024 * alpha), class_num)\n",
    "       self.avg = nn.AdaptiveAvgPool2d(1)\n",
    "\n",
    "    def forward(self, x):\n",
    "        x = self.stem(x)\n",
    "\n",
    "        x = self.conv1(x)\n",
    "        x = self.conv2(x)\n",
    "        x = self.conv3(x)\n",
    "        x = self.conv4(x)\n",
    "\n",
    "        x = self.avg(x)\n",
    "        x = x.view(x.size(0), -1)\n",
    "        logits = self.fc(x)\n",
    "        probs = F.softmax(logits, dim=1)\n",
    "        \n",
    "        return logits, probs\n",
    "\n"
   ]
  },
  {
   "cell_type": "code",
   "execution_count": 31,
   "metadata": {
    "colab": {
     "base_uri": "https://localhost:8080/",
     "height": 1000
    },
    "id": "gFVYAR0dW3EP",
    "outputId": "b932ab35-7b02-432a-d6a9-3509f0699419"
   },
   "outputs": [
    {
     "name": "stdout",
     "output_type": "stream",
     "text": [
      "MobileNet(\n",
      "  (stem): Sequential(\n",
      "    (0): BasicConv2d(\n",
      "      (conv): Conv2d(3, 32, kernel_size=(3, 3), stride=(1, 1), padding=(1, 1), bias=False)\n",
      "      (bn): BatchNorm2d(32, eps=1e-05, momentum=0.1, affine=True, track_running_stats=True)\n",
      "      (relu): ReLU(inplace=True)\n",
      "    )\n",
      "    (1): DepthSeperabelConv2d(\n",
      "      (depthwise): Sequential(\n",
      "        (0): Conv2d(32, 32, kernel_size=(3, 3), stride=(1, 1), padding=(1, 1), groups=32, bias=False)\n",
      "        (1): BatchNorm2d(32, eps=1e-05, momentum=0.1, affine=True, track_running_stats=True)\n",
      "        (2): ReLU(inplace=True)\n",
      "      )\n",
      "      (pointwise): Sequential(\n",
      "        (0): Conv2d(32, 64, kernel_size=(1, 1), stride=(1, 1))\n",
      "        (1): BatchNorm2d(64, eps=1e-05, momentum=0.1, affine=True, track_running_stats=True)\n",
      "        (2): ReLU(inplace=True)\n",
      "      )\n",
      "    )\n",
      "  )\n",
      "  (conv1): Sequential(\n",
      "    (0): DepthSeperabelConv2d(\n",
      "      (depthwise): Sequential(\n",
      "        (0): Conv2d(64, 64, kernel_size=(3, 3), stride=(2, 2), padding=(1, 1), groups=64, bias=False)\n",
      "        (1): BatchNorm2d(64, eps=1e-05, momentum=0.1, affine=True, track_running_stats=True)\n",
      "        (2): ReLU(inplace=True)\n",
      "      )\n",
      "      (pointwise): Sequential(\n",
      "        (0): Conv2d(64, 128, kernel_size=(1, 1), stride=(1, 1))\n",
      "        (1): BatchNorm2d(128, eps=1e-05, momentum=0.1, affine=True, track_running_stats=True)\n",
      "        (2): ReLU(inplace=True)\n",
      "      )\n",
      "    )\n",
      "    (1): DepthSeperabelConv2d(\n",
      "      (depthwise): Sequential(\n",
      "        (0): Conv2d(128, 128, kernel_size=(3, 3), stride=(1, 1), padding=(1, 1), groups=128, bias=False)\n",
      "        (1): BatchNorm2d(128, eps=1e-05, momentum=0.1, affine=True, track_running_stats=True)\n",
      "        (2): ReLU(inplace=True)\n",
      "      )\n",
      "      (pointwise): Sequential(\n",
      "        (0): Conv2d(128, 128, kernel_size=(1, 1), stride=(1, 1))\n",
      "        (1): BatchNorm2d(128, eps=1e-05, momentum=0.1, affine=True, track_running_stats=True)\n",
      "        (2): ReLU(inplace=True)\n",
      "      )\n",
      "    )\n",
      "  )\n",
      "  (conv2): Sequential(\n",
      "    (0): DepthSeperabelConv2d(\n",
      "      (depthwise): Sequential(\n",
      "        (0): Conv2d(128, 128, kernel_size=(3, 3), stride=(2, 2), padding=(1, 1), groups=128, bias=False)\n",
      "        (1): BatchNorm2d(128, eps=1e-05, momentum=0.1, affine=True, track_running_stats=True)\n",
      "        (2): ReLU(inplace=True)\n",
      "      )\n",
      "      (pointwise): Sequential(\n",
      "        (0): Conv2d(128, 256, kernel_size=(1, 1), stride=(1, 1))\n",
      "        (1): BatchNorm2d(256, eps=1e-05, momentum=0.1, affine=True, track_running_stats=True)\n",
      "        (2): ReLU(inplace=True)\n",
      "      )\n",
      "    )\n",
      "    (1): DepthSeperabelConv2d(\n",
      "      (depthwise): Sequential(\n",
      "        (0): Conv2d(256, 256, kernel_size=(3, 3), stride=(1, 1), padding=(1, 1), groups=256, bias=False)\n",
      "        (1): BatchNorm2d(256, eps=1e-05, momentum=0.1, affine=True, track_running_stats=True)\n",
      "        (2): ReLU(inplace=True)\n",
      "      )\n",
      "      (pointwise): Sequential(\n",
      "        (0): Conv2d(256, 256, kernel_size=(1, 1), stride=(1, 1))\n",
      "        (1): BatchNorm2d(256, eps=1e-05, momentum=0.1, affine=True, track_running_stats=True)\n",
      "        (2): ReLU(inplace=True)\n",
      "      )\n",
      "    )\n",
      "  )\n",
      "  (conv3): Sequential(\n",
      "    (0): DepthSeperabelConv2d(\n",
      "      (depthwise): Sequential(\n",
      "        (0): Conv2d(256, 256, kernel_size=(3, 3), stride=(2, 2), padding=(1, 1), groups=256, bias=False)\n",
      "        (1): BatchNorm2d(256, eps=1e-05, momentum=0.1, affine=True, track_running_stats=True)\n",
      "        (2): ReLU(inplace=True)\n",
      "      )\n",
      "      (pointwise): Sequential(\n",
      "        (0): Conv2d(256, 512, kernel_size=(1, 1), stride=(1, 1))\n",
      "        (1): BatchNorm2d(512, eps=1e-05, momentum=0.1, affine=True, track_running_stats=True)\n",
      "        (2): ReLU(inplace=True)\n",
      "      )\n",
      "    )\n",
      "    (1): DepthSeperabelConv2d(\n",
      "      (depthwise): Sequential(\n",
      "        (0): Conv2d(512, 512, kernel_size=(3, 3), stride=(1, 1), padding=(1, 1), groups=512, bias=False)\n",
      "        (1): BatchNorm2d(512, eps=1e-05, momentum=0.1, affine=True, track_running_stats=True)\n",
      "        (2): ReLU(inplace=True)\n",
      "      )\n",
      "      (pointwise): Sequential(\n",
      "        (0): Conv2d(512, 512, kernel_size=(1, 1), stride=(1, 1))\n",
      "        (1): BatchNorm2d(512, eps=1e-05, momentum=0.1, affine=True, track_running_stats=True)\n",
      "        (2): ReLU(inplace=True)\n",
      "      )\n",
      "    )\n",
      "    (2): DepthSeperabelConv2d(\n",
      "      (depthwise): Sequential(\n",
      "        (0): Conv2d(512, 512, kernel_size=(3, 3), stride=(1, 1), padding=(1, 1), groups=512, bias=False)\n",
      "        (1): BatchNorm2d(512, eps=1e-05, momentum=0.1, affine=True, track_running_stats=True)\n",
      "        (2): ReLU(inplace=True)\n",
      "      )\n",
      "      (pointwise): Sequential(\n",
      "        (0): Conv2d(512, 512, kernel_size=(1, 1), stride=(1, 1))\n",
      "        (1): BatchNorm2d(512, eps=1e-05, momentum=0.1, affine=True, track_running_stats=True)\n",
      "        (2): ReLU(inplace=True)\n",
      "      )\n",
      "    )\n",
      "    (3): DepthSeperabelConv2d(\n",
      "      (depthwise): Sequential(\n",
      "        (0): Conv2d(512, 512, kernel_size=(3, 3), stride=(1, 1), padding=(1, 1), groups=512, bias=False)\n",
      "        (1): BatchNorm2d(512, eps=1e-05, momentum=0.1, affine=True, track_running_stats=True)\n",
      "        (2): ReLU(inplace=True)\n",
      "      )\n",
      "      (pointwise): Sequential(\n",
      "        (0): Conv2d(512, 512, kernel_size=(1, 1), stride=(1, 1))\n",
      "        (1): BatchNorm2d(512, eps=1e-05, momentum=0.1, affine=True, track_running_stats=True)\n",
      "        (2): ReLU(inplace=True)\n",
      "      )\n",
      "    )\n",
      "    (4): DepthSeperabelConv2d(\n",
      "      (depthwise): Sequential(\n",
      "        (0): Conv2d(512, 512, kernel_size=(3, 3), stride=(1, 1), padding=(1, 1), groups=512, bias=False)\n",
      "        (1): BatchNorm2d(512, eps=1e-05, momentum=0.1, affine=True, track_running_stats=True)\n",
      "        (2): ReLU(inplace=True)\n",
      "      )\n",
      "      (pointwise): Sequential(\n",
      "        (0): Conv2d(512, 512, kernel_size=(1, 1), stride=(1, 1))\n",
      "        (1): BatchNorm2d(512, eps=1e-05, momentum=0.1, affine=True, track_running_stats=True)\n",
      "        (2): ReLU(inplace=True)\n",
      "      )\n",
      "    )\n",
      "    (5): DepthSeperabelConv2d(\n",
      "      (depthwise): Sequential(\n",
      "        (0): Conv2d(512, 512, kernel_size=(3, 3), stride=(1, 1), padding=(1, 1), groups=512, bias=False)\n",
      "        (1): BatchNorm2d(512, eps=1e-05, momentum=0.1, affine=True, track_running_stats=True)\n",
      "        (2): ReLU(inplace=True)\n",
      "      )\n",
      "      (pointwise): Sequential(\n",
      "        (0): Conv2d(512, 512, kernel_size=(1, 1), stride=(1, 1))\n",
      "        (1): BatchNorm2d(512, eps=1e-05, momentum=0.1, affine=True, track_running_stats=True)\n",
      "        (2): ReLU(inplace=True)\n",
      "      )\n",
      "    )\n",
      "  )\n",
      "  (conv4): Sequential(\n",
      "    (0): DepthSeperabelConv2d(\n",
      "      (depthwise): Sequential(\n",
      "        (0): Conv2d(512, 512, kernel_size=(3, 3), stride=(2, 2), padding=(1, 1), groups=512, bias=False)\n",
      "        (1): BatchNorm2d(512, eps=1e-05, momentum=0.1, affine=True, track_running_stats=True)\n",
      "        (2): ReLU(inplace=True)\n",
      "      )\n",
      "      (pointwise): Sequential(\n",
      "        (0): Conv2d(512, 1024, kernel_size=(1, 1), stride=(1, 1))\n",
      "        (1): BatchNorm2d(1024, eps=1e-05, momentum=0.1, affine=True, track_running_stats=True)\n",
      "        (2): ReLU(inplace=True)\n",
      "      )\n",
      "    )\n",
      "    (1): DepthSeperabelConv2d(\n",
      "      (depthwise): Sequential(\n",
      "        (0): Conv2d(1024, 1024, kernel_size=(3, 3), stride=(1, 1), padding=(1, 1), groups=1024, bias=False)\n",
      "        (1): BatchNorm2d(1024, eps=1e-05, momentum=0.1, affine=True, track_running_stats=True)\n",
      "        (2): ReLU(inplace=True)\n",
      "      )\n",
      "      (pointwise): Sequential(\n",
      "        (0): Conv2d(1024, 1024, kernel_size=(1, 1), stride=(1, 1))\n",
      "        (1): BatchNorm2d(1024, eps=1e-05, momentum=0.1, affine=True, track_running_stats=True)\n",
      "        (2): ReLU(inplace=True)\n",
      "      )\n",
      "    )\n",
      "  )\n",
      "  (fc): Linear(in_features=1024, out_features=10, bias=True)\n",
      "  (avg): AdaptiveAvgPool2d(output_size=1)\n",
      ")\n"
     ]
    }
   ],
   "source": [
    "net = MobileNet(width_multiplier=1, class_num=10)\n",
    "print(net)"
   ]
  },
  {
   "cell_type": "code",
   "execution_count": 32,
   "metadata": {
    "colab": {
     "base_uri": "https://localhost:8080/",
     "height": 34
    },
    "id": "TsyjkKrEW3EY",
    "outputId": "f08ec7f5-0137-4e2f-ae2b-f1c522133f2f"
   },
   "outputs": [
    {
     "name": "stdout",
     "output_type": "stream",
     "text": [
      "cuda\n"
     ]
    }
   ],
   "source": [
    "device = 'cuda' if torch.cuda.is_available() else 'cpu'\n",
    "# device = torch.device('cpu')\n",
    "print(device)"
   ]
  },
  {
   "cell_type": "code",
   "execution_count": 33,
   "metadata": {
    "id": "njiOLZ2DW3Ed"
   },
   "outputs": [],
   "source": [
    "net = net.to(device)"
   ]
  },
  {
   "cell_type": "code",
   "execution_count": 34,
   "metadata": {
    "colab": {
     "base_uri": "https://localhost:8080/",
     "height": 1000
    },
    "id": "PeJQ9ZEUX233",
    "outputId": "94577b61-091c-4baf-9fea-02e73587aa43"
   },
   "outputs": [
    {
     "name": "stdout",
     "output_type": "stream",
     "text": [
      "----------------------------------------------------------------\n",
      "        Layer (type)               Output Shape         Param #\n",
      "================================================================\n",
      "            Conv2d-1           [-1, 32, 32, 32]             864\n",
      "       BatchNorm2d-2           [-1, 32, 32, 32]              64\n",
      "              ReLU-3           [-1, 32, 32, 32]               0\n",
      "       BasicConv2d-4           [-1, 32, 32, 32]               0\n",
      "            Conv2d-5           [-1, 32, 32, 32]             288\n",
      "       BatchNorm2d-6           [-1, 32, 32, 32]              64\n",
      "              ReLU-7           [-1, 32, 32, 32]               0\n",
      "            Conv2d-8           [-1, 64, 32, 32]           2,112\n",
      "       BatchNorm2d-9           [-1, 64, 32, 32]             128\n",
      "             ReLU-10           [-1, 64, 32, 32]               0\n",
      "DepthSeperabelConv2d-11           [-1, 64, 32, 32]               0\n",
      "           Conv2d-12           [-1, 64, 16, 16]             576\n",
      "      BatchNorm2d-13           [-1, 64, 16, 16]             128\n",
      "             ReLU-14           [-1, 64, 16, 16]               0\n",
      "           Conv2d-15          [-1, 128, 16, 16]           8,320\n",
      "      BatchNorm2d-16          [-1, 128, 16, 16]             256\n",
      "             ReLU-17          [-1, 128, 16, 16]               0\n",
      "DepthSeperabelConv2d-18          [-1, 128, 16, 16]               0\n",
      "           Conv2d-19          [-1, 128, 16, 16]           1,152\n",
      "      BatchNorm2d-20          [-1, 128, 16, 16]             256\n",
      "             ReLU-21          [-1, 128, 16, 16]               0\n",
      "           Conv2d-22          [-1, 128, 16, 16]          16,512\n",
      "      BatchNorm2d-23          [-1, 128, 16, 16]             256\n",
      "             ReLU-24          [-1, 128, 16, 16]               0\n",
      "DepthSeperabelConv2d-25          [-1, 128, 16, 16]               0\n",
      "           Conv2d-26            [-1, 128, 8, 8]           1,152\n",
      "      BatchNorm2d-27            [-1, 128, 8, 8]             256\n",
      "             ReLU-28            [-1, 128, 8, 8]               0\n",
      "           Conv2d-29            [-1, 256, 8, 8]          33,024\n",
      "      BatchNorm2d-30            [-1, 256, 8, 8]             512\n",
      "             ReLU-31            [-1, 256, 8, 8]               0\n",
      "DepthSeperabelConv2d-32            [-1, 256, 8, 8]               0\n",
      "           Conv2d-33            [-1, 256, 8, 8]           2,304\n",
      "      BatchNorm2d-34            [-1, 256, 8, 8]             512\n",
      "             ReLU-35            [-1, 256, 8, 8]               0\n",
      "           Conv2d-36            [-1, 256, 8, 8]          65,792\n",
      "      BatchNorm2d-37            [-1, 256, 8, 8]             512\n",
      "             ReLU-38            [-1, 256, 8, 8]               0\n",
      "DepthSeperabelConv2d-39            [-1, 256, 8, 8]               0\n",
      "           Conv2d-40            [-1, 256, 4, 4]           2,304\n",
      "      BatchNorm2d-41            [-1, 256, 4, 4]             512\n",
      "             ReLU-42            [-1, 256, 4, 4]               0\n",
      "           Conv2d-43            [-1, 512, 4, 4]         131,584\n",
      "      BatchNorm2d-44            [-1, 512, 4, 4]           1,024\n",
      "             ReLU-45            [-1, 512, 4, 4]               0\n",
      "DepthSeperabelConv2d-46            [-1, 512, 4, 4]               0\n",
      "           Conv2d-47            [-1, 512, 4, 4]           4,608\n",
      "      BatchNorm2d-48            [-1, 512, 4, 4]           1,024\n",
      "             ReLU-49            [-1, 512, 4, 4]               0\n",
      "           Conv2d-50            [-1, 512, 4, 4]         262,656\n",
      "      BatchNorm2d-51            [-1, 512, 4, 4]           1,024\n",
      "             ReLU-52            [-1, 512, 4, 4]               0\n",
      "DepthSeperabelConv2d-53            [-1, 512, 4, 4]               0\n",
      "           Conv2d-54            [-1, 512, 4, 4]           4,608\n",
      "      BatchNorm2d-55            [-1, 512, 4, 4]           1,024\n",
      "             ReLU-56            [-1, 512, 4, 4]               0\n",
      "           Conv2d-57            [-1, 512, 4, 4]         262,656\n",
      "      BatchNorm2d-58            [-1, 512, 4, 4]           1,024\n",
      "             ReLU-59            [-1, 512, 4, 4]               0\n",
      "DepthSeperabelConv2d-60            [-1, 512, 4, 4]               0\n",
      "           Conv2d-61            [-1, 512, 4, 4]           4,608\n",
      "      BatchNorm2d-62            [-1, 512, 4, 4]           1,024\n",
      "             ReLU-63            [-1, 512, 4, 4]               0\n",
      "           Conv2d-64            [-1, 512, 4, 4]         262,656\n",
      "      BatchNorm2d-65            [-1, 512, 4, 4]           1,024\n",
      "             ReLU-66            [-1, 512, 4, 4]               0\n",
      "DepthSeperabelConv2d-67            [-1, 512, 4, 4]               0\n",
      "           Conv2d-68            [-1, 512, 4, 4]           4,608\n",
      "      BatchNorm2d-69            [-1, 512, 4, 4]           1,024\n",
      "             ReLU-70            [-1, 512, 4, 4]               0\n",
      "           Conv2d-71            [-1, 512, 4, 4]         262,656\n",
      "      BatchNorm2d-72            [-1, 512, 4, 4]           1,024\n",
      "             ReLU-73            [-1, 512, 4, 4]               0\n",
      "DepthSeperabelConv2d-74            [-1, 512, 4, 4]               0\n",
      "           Conv2d-75            [-1, 512, 4, 4]           4,608\n",
      "      BatchNorm2d-76            [-1, 512, 4, 4]           1,024\n",
      "             ReLU-77            [-1, 512, 4, 4]               0\n",
      "           Conv2d-78            [-1, 512, 4, 4]         262,656\n",
      "      BatchNorm2d-79            [-1, 512, 4, 4]           1,024\n",
      "             ReLU-80            [-1, 512, 4, 4]               0\n",
      "DepthSeperabelConv2d-81            [-1, 512, 4, 4]               0\n",
      "           Conv2d-82            [-1, 512, 2, 2]           4,608\n",
      "      BatchNorm2d-83            [-1, 512, 2, 2]           1,024\n",
      "             ReLU-84            [-1, 512, 2, 2]               0\n",
      "           Conv2d-85           [-1, 1024, 2, 2]         525,312\n",
      "      BatchNorm2d-86           [-1, 1024, 2, 2]           2,048\n",
      "             ReLU-87           [-1, 1024, 2, 2]               0\n",
      "DepthSeperabelConv2d-88           [-1, 1024, 2, 2]               0\n",
      "           Conv2d-89           [-1, 1024, 2, 2]           9,216\n",
      "      BatchNorm2d-90           [-1, 1024, 2, 2]           2,048\n",
      "             ReLU-91           [-1, 1024, 2, 2]               0\n",
      "           Conv2d-92           [-1, 1024, 2, 2]       1,049,600\n",
      "      BatchNorm2d-93           [-1, 1024, 2, 2]           2,048\n",
      "             ReLU-94           [-1, 1024, 2, 2]               0\n",
      "DepthSeperabelConv2d-95           [-1, 1024, 2, 2]               0\n",
      "AdaptiveAvgPool2d-96           [-1, 1024, 1, 1]               0\n",
      "           Linear-97                   [-1, 10]          10,250\n",
      "================================================================\n",
      "Total params: 3,223,178\n",
      "Trainable params: 3,223,178\n",
      "Non-trainable params: 0\n",
      "----------------------------------------------------------------\n",
      "Input size (MB): 0.01\n",
      "Forward/backward pass size (MB): 11.37\n",
      "Params size (MB): 12.30\n",
      "Estimated Total Size (MB): 23.67\n",
      "----------------------------------------------------------------\n"
     ]
    }
   ],
   "source": [
    "summary(net, input_size=(3, 32, 32))"
   ]
  },
  {
   "cell_type": "markdown",
   "metadata": {
    "id": "D-qHEyN7W3Eu"
   },
   "source": [
    "## Data preparation"
   ]
  },
  {
   "cell_type": "code",
   "execution_count": 35,
   "metadata": {
    "id": "br2xtGu7W3Eu"
   },
   "outputs": [],
   "source": [
    "transform = transforms.Compose([\n",
    "    transforms.RandomHorizontalFlip(),\n",
    "    transforms.ToTensor(),\n",
    "    transforms.Normalize((0.5, 0.5, 0.5), (0.5, 0.5, 0.5)),\n",
    "])"
   ]
  },
  {
   "cell_type": "code",
   "execution_count": 36,
   "metadata": {
    "colab": {
     "base_uri": "https://localhost:8080/",
     "height": 51
    },
    "id": "K0zqQvNyW3Ez",
    "outputId": "6da5d324-256f-45f4-d2d1-2d5e4ac31b6b"
   },
   "outputs": [
    {
     "name": "stdout",
     "output_type": "stream",
     "text": [
      "Files already downloaded and verified\n",
      "Files already downloaded and verified\n"
     ]
    }
   ],
   "source": [
    "train_set = torchvision.datasets.CIFAR10('./datasets', train=True, \n",
    "                                         download=True, transform=transform)\n",
    "test_set = torchvision.datasets.CIFAR10('./datasets', train=False, \n",
    "                                        download=True, transform=transform)\n",
    "\n",
    "train_loader = torch.utils.data.DataLoader(train_set, batch_size=128, \n",
    "                                           shuffle=True, num_workers=4)\n",
    "test_loader = torch.utils.data.DataLoader(test_set, batch_size=100, \n",
    "                                          shuffle=False, num_workers=4)\n",
    "\n",
    "classes = ('plane', 'car', 'bird', 'cat', 'deer',\n",
    "           'dog', 'frog', 'horse', 'ship', 'truck')"
   ]
  },
  {
   "cell_type": "code",
   "execution_count": 37,
   "metadata": {
    "colab": {
     "base_uri": "https://localhost:8080/",
     "height": 138
    },
    "id": "3lNx7bP3W3E2",
    "outputId": "3ff35e8d-3eb0-4661-c158-a7c44eb29e92"
   },
   "outputs": [
    {
     "data": {
      "image/png": "[encoded data removed]",
      "text/plain": [
       "<Figure size 432x288 with 1 Axes>"
      ]
     },
     "metadata": {
      "needs_background": "light",
      "tags": []
     },
     "output_type": "display_data"
    }
   ],
   "source": [
    "import matplotlib.pyplot as plt\n",
    "import numpy as np\n",
    "\n",
    "def imshow(img):\n",
    "    img = img / 2 + 0.5\n",
    "    plt.imshow(np.transpose(img.numpy(), (1, 2, 0)))\n",
    "    plt.show()\n",
    "    \n",
    "image_iter = iter(train_loader)\n",
    "images, _ = image_iter.next()\n",
    "imshow(torchvision.utils.make_grid(images[:4]))"
   ]
  },
  {
   "cell_type": "code",
   "execution_count": 38,
   "metadata": {
    "id": "SiLSG4ScW3E5"
   },
   "outputs": [],
   "source": [
    "lr = 1e-3\n",
    "momentum = 0.9\n",
    "weight_decay = 5e-4\n",
    "epochs = 20"
   ]
  },
  {
   "cell_type": "code",
   "execution_count": 39,
   "metadata": {
    "id": "__F06lXiW3E8"
   },
   "outputs": [],
   "source": [
    "criterion = nn.CrossEntropyLoss()\n",
    "optimizer = optim.SGD(net.parameters(), lr=lr, momentum=momentum, weight_decay=weight_decay,  nesterov=True)"
   ]
  },
  {
   "cell_type": "markdown",
   "metadata": {
    "id": "8hB7f0JFW3FA"
   },
   "source": [
    "### Training"
   ]
  },
  {
   "cell_type": "code",
   "execution_count": 40,
   "metadata": {
    "id": "Xy39_sbbW3FA"
   },
   "outputs": [],
   "source": [
    "def get_accuracy(model, data_loader, device):\n",
    "    '''\n",
    "    Function for computing the accuracy of the predictions over the entire data_loader\n",
    "    '''\n",
    "    \n",
    "    correct_pred = 0 \n",
    "    n = 0\n",
    "    \n",
    "    with torch.no_grad():\n",
    "        model.eval()\n",
    "        for X, y_true in data_loader:\n",
    "\n",
    "            X = X.to(device)\n",
    "            y_true = y_true.to(device)\n",
    "\n",
    "            _, y_prob = model(X)\n",
    "            _, predicted_labels = torch.max(y_prob, 1)\n",
    "\n",
    "            n += y_true.size(0)\n",
    "            correct_pred += (predicted_labels == y_true).sum()\n",
    "\n",
    "    return correct_pred.float() / n"
   ]
  },
  {
   "cell_type": "code",
   "execution_count": 41,
   "metadata": {
    "id": "C_un6diCW3FD"
   },
   "outputs": [],
   "source": [
    "def train(train_loader, model, criterion, optimizer, device):\n",
    "    '''\n",
    "    Function for the training step of the training loop\n",
    "    '''\n",
    "\n",
    "    model.train()\n",
    "    running_loss = 0\n",
    "    \n",
    "    for X, y_true in train_loader:\n",
    "\n",
    "        optimizer.zero_grad()\n",
    "        \n",
    "        X = X.to(device)\n",
    "        y_true = y_true.to(device)\n",
    "    \n",
    "        # Forward pass\n",
    "        y_hat, _ = model(X) \n",
    "        loss = criterion(y_hat, y_true) \n",
    "        running_loss += loss.item() * X.size(0)\n",
    "\n",
    "        # Backward pass\n",
    "        loss.backward()\n",
    "        optimizer.step()\n",
    "        \n",
    "    epoch_loss = running_loss / len(train_loader.dataset)\n",
    "    return model, optimizer, epoch_loss"
   ]
  },
  {
   "cell_type": "code",
   "execution_count": 42,
   "metadata": {
    "id": "hlkfz4_aW3FH"
   },
   "outputs": [],
   "source": [
    "\n",
    "def validate(valid_loader, model, criterion, device):\n",
    "    '''\n",
    "    Function for the validation step of the training loop\n",
    "    '''\n",
    "    model.eval()\n",
    "    running_loss = 0\n",
    "    \n",
    "    for X, y_true in valid_loader:\n",
    "    \n",
    "        X = X.to(device)\n",
    "        y_true = y_true.to(device)\n",
    "\n",
    "        # Forward pass and record loss\n",
    "        y_hat, _ = model(X) \n",
    "        loss = criterion(y_hat, y_true) \n",
    "        running_loss += loss.item() * X.size(0)\n",
    "\n",
    "    epoch_loss = running_loss / len(valid_loader.dataset)\n",
    "        \n",
    "    return model, epoch_loss"
   ]
  },
  {
   "cell_type": "code",
   "execution_count": 43,
   "metadata": {
    "id": "2SDG6ivDW3FL"
   },
   "outputs": [],
   "source": [
    "def training_loop(model, criterion, optimizer, train_loader, valid_loader, epochs, device, print_every=1):\n",
    "    '''\n",
    "    Function defining the entire training loop\n",
    "    '''\n",
    "    \n",
    "    # set objects for storing metrics\n",
    "    best_loss = 1e10\n",
    "    train_losses = []\n",
    "    valid_losses = []\n",
    "\n",
    "    # Train model\n",
    "    for epoch in range(0, epochs):\n",
    "\n",
    "        # training\n",
    "        model, optimizer, train_loss = train(train_loader, model, criterion, optimizer, device)\n",
    "        train_losses.append(train_loss)\n",
    "\n",
    "        # validation\n",
    "        with torch.no_grad():\n",
    "            model, valid_loss = validate(valid_loader, model, criterion, device)\n",
    "            valid_losses.append(valid_loss)\n",
    "\n",
    "        if epoch % print_every == (print_every - 1):\n",
    "            \n",
    "            train_acc = get_accuracy(model, train_loader, device=device)\n",
    "            valid_acc = get_accuracy(model, valid_loader, device=device)\n",
    "                \n",
    "            print(f'{datetime.now().time().replace(microsecond=0)} --- '\n",
    "                  f'Epoch: {epoch}\\t'\n",
    "                  f'Train loss: {train_loss:.4f}\\t'\n",
    "                  f'Valid loss: {valid_loss:.4f}\\t'\n",
    "                  f'Train accuracy: {100 * train_acc:.2f}\\t'\n",
    "                  f'Valid accuracy: {100 * valid_acc:.2f}')\n",
    "\n",
    "    \n",
    "    return model, optimizer, (train_losses, valid_losses)"
   ]
  },
  {
   "cell_type": "code",
   "execution_count": 44,
   "metadata": {
    "colab": {
     "base_uri": "https://localhost:8080/",
     "height": 357
    },
    "id": "w2P3Ia9dW3FP",
    "outputId": "cb2af803-c5b4-43bf-93f0-72914653622c"
   },
   "outputs": [
    {
     "name": "stdout",
     "output_type": "stream",
     "text": [
      "11:30:48 --- Epoch: 0\tTrain loss: 2.1792\tValid loss: 1.9670\tTrain accuracy: 25.09\tValid accuracy: 25.40\n",
      "11:31:21 --- Epoch: 1\tTrain loss: 1.8228\tValid loss: 1.7096\tTrain accuracy: 34.09\tValid accuracy: 34.55\n",
      "11:31:53 --- Epoch: 2\tTrain loss: 1.6636\tValid loss: 1.5809\tTrain accuracy: 40.74\tValid accuracy: 40.83\n",
      "11:32:26 --- Epoch: 3\tTrain loss: 1.5403\tValid loss: 1.4895\tTrain accuracy: 45.17\tValid accuracy: 44.69\n",
      "11:32:59 --- Epoch: 4\tTrain loss: 1.4454\tValid loss: 1.4242\tTrain accuracy: 49.08\tValid accuracy: 47.04\n",
      "11:33:32 --- Epoch: 5\tTrain loss: 1.3702\tValid loss: 1.3415\tTrain accuracy: 52.43\tValid accuracy: 50.49\n",
      "11:34:05 --- Epoch: 6\tTrain loss: 1.3040\tValid loss: 1.3019\tTrain accuracy: 55.28\tValid accuracy: 52.30\n",
      "11:34:38 --- Epoch: 7\tTrain loss: 1.2375\tValid loss: 1.2614\tTrain accuracy: 57.94\tValid accuracy: 54.06\n",
      "11:35:12 --- Epoch: 8\tTrain loss: 1.1789\tValid loss: 1.2154\tTrain accuracy: 60.72\tValid accuracy: 56.24\n",
      "11:35:46 --- Epoch: 9\tTrain loss: 1.1164\tValid loss: 1.1818\tTrain accuracy: 62.68\tValid accuracy: 56.89\n",
      "11:36:20 --- Epoch: 10\tTrain loss: 1.0611\tValid loss: 1.1446\tTrain accuracy: 65.68\tValid accuracy: 58.62\n",
      "11:36:54 --- Epoch: 11\tTrain loss: 1.0020\tValid loss: 1.1262\tTrain accuracy: 67.54\tValid accuracy: 59.78\n",
      "11:37:28 --- Epoch: 12\tTrain loss: 0.9437\tValid loss: 1.0909\tTrain accuracy: 69.82\tValid accuracy: 61.11\n",
      "11:38:02 --- Epoch: 13\tTrain loss: 0.8960\tValid loss: 1.0822\tTrain accuracy: 71.63\tValid accuracy: 62.32\n",
      "11:38:36 --- Epoch: 14\tTrain loss: 0.8498\tValid loss: 1.0640\tTrain accuracy: 73.78\tValid accuracy: 62.44\n",
      "11:39:10 --- Epoch: 15\tTrain loss: 0.8008\tValid loss: 1.0493\tTrain accuracy: 75.94\tValid accuracy: 63.65\n",
      "11:39:45 --- Epoch: 16\tTrain loss: 0.7549\tValid loss: 1.0369\tTrain accuracy: 77.50\tValid accuracy: 64.61\n",
      "11:40:21 --- Epoch: 17\tTrain loss: 0.7137\tValid loss: 1.0421\tTrain accuracy: 79.18\tValid accuracy: 63.80\n",
      "11:40:56 --- Epoch: 18\tTrain loss: 0.6707\tValid loss: 1.0593\tTrain accuracy: 80.46\tValid accuracy: 64.09\n",
      "11:41:30 --- Epoch: 19\tTrain loss: 0.6355\tValid loss: 1.0588\tTrain accuracy: 81.75\tValid accuracy: 64.40\n"
     ]
    }
   ],
   "source": [
    "model, optimizer, _ = training_loop(net, criterion, optimizer, train_loader, test_loader, epochs, device)"
   ]
  },
  {
   "cell_type": "markdown",
   "metadata": {
    "id": "-h20angUa9Q1"
   },
   "source": [
    "### Pretrained Mobilenet"
   ]
  },
  {
   "cell_type": "code",
   "execution_count": null,
   "metadata": {
    "id": "YeYagXxTbBIn"
   },
   "outputs": [],
   "source": []
  }
 ],
 "metadata": {
  "accelerator": "GPU",
  "colab": {
   "collapsed_sections": [],
   "name": "main.ipynb",
   "provenance": []
  },
  "kernelspec": {
   "display_name": "Python 3",
   "language": "python",
   "name": "python3"
  },
  "language_info": {
   "codemirror_mode": {
    "name": "ipython",
    "version": 3
   },
   "file_extension": ".py",
   "mimetype": "text/x-python",
   "name": "python",
   "nbconvert_exporter": "python",
   "pygments_lexer": "ipython3",
   "version": "3.8.2"
  }
 },
 "nbformat": 4,
 "nbformat_minor": 4
}
